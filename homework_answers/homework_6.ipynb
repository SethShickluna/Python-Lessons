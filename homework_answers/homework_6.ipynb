{
 "cells": [
  {
   "cell_type": "code",
   "execution_count": null,
   "metadata": {},
   "outputs": [],
   "source": [
    "import sys"
   ]
  },
  {
   "cell_type": "markdown",
   "metadata": {},
   "source": [
    "# Write a function which returns the product of a tuple"
   ]
  },
  {
   "cell_type": "code",
   "execution_count": 2,
   "metadata": {},
   "outputs": [],
   "source": [
    "def multiply_tuple(t): \n",
    "    # returns the product of each value in the tuple t \n",
    "    product = 1 \n",
    "    for val in t: \n",
    "        product *= val # recall that *= is the same as t = t * val \n",
    "\n",
    "    return product"
   ]
  },
  {
   "cell_type": "markdown",
   "metadata": {},
   "source": [
    "# Write a function which makes all values in a tuple positive"
   ]
  },
  {
   "cell_type": "code",
   "execution_count": 3,
   "metadata": {},
   "outputs": [],
   "source": [
    "def make_positive(t): \n",
    "    #returns a tuple with any negative values turned positive\n",
    "    t = list(t)\n",
    "    for i in range(len(t)): # you can use the abs()\n",
    "        \n",
    "        if t[i] < 0: \n",
    "            t[i] *= -1 \n",
    "\n",
    "    return tuple(t)"
   ]
  },
  {
   "cell_type": "markdown",
   "metadata": {},
   "source": [
    "# Write a function which returns the number closest to 0 in a tuple"
   ]
  },
  {
   "cell_type": "code",
   "execution_count": 4,
   "metadata": {},
   "outputs": [],
   "source": [
    "def find_closest_to_zero(t): \n",
    "    closest = sys.maxsize # sys.maxsize is the largest int value python can hold, so we start big and get smaller \n",
    "\n",
    "    for val in t: \n",
    "        # quick optimization if the number is 0 return it instantly\n",
    "        if val == 0: return val \n",
    "\n",
    "        if abs(val) < abs(closest): \n",
    "            closest = val \n",
    "    \n",
    "    return closest"
   ]
  },
  {
   "cell_type": "code",
   "execution_count": 5,
   "metadata": {},
   "outputs": [
    {
     "name": "stdout",
     "output_type": "stream",
     "text": [
      "--------------------------------------------------\n",
      "Tuple: (1, 2, 3, 4, 5)\n",
      "Product: 120\n",
      "Make Postive: (1, 2, 3, 4, 5)\n",
      "Closest to 0: 1\n",
      "--------------------------------------------------\n",
      "Tuple: (3, -2, 5, 10)\n",
      "Product: -300\n",
      "Make Postive: (3, 2, 5, 10)\n",
      "Closest to 0: -2\n",
      "--------------------------------------------------\n",
      "Tuple: (0, 10, -5, -2)\n",
      "Product: 0\n",
      "Make Postive: (0, 10, 5, 2)\n",
      "Closest to 0: 0\n"
     ]
    }
   ],
   "source": [
    "# test cases for each function \n",
    "t1 = (1, 2, 3, 4, 5)\n",
    "t2 = (3, -2, 5, 10)\n",
    "t3 = (0, 10, -5, -2)\n",
    "\n",
    "my_tuples = [t1, t2, t3]\n",
    "\n",
    "for t in my_tuples: \n",
    "    print('-'*50)\n",
    "    print(\"Tuple:\", t)\n",
    "    print(\"Product:\", multiply_tuple(t))\n",
    "    print(\"Make Postive:\", make_positive(t))\n",
    "    print(\"Closest to 0:\", find_closest_to_zero(t))\n",
    "    \n"
   ]
  }
 ],
 "metadata": {
  "interpreter": {
   "hash": "767d51c1340bd893661ea55ea3124f6de3c7a262a8b4abca0554b478b1e2ff90"
  },
  "kernelspec": {
   "display_name": "Python 3.8.10 64-bit",
   "name": "python3"
  },
  "language_info": {
   "codemirror_mode": {
    "name": "ipython",
    "version": 3
   },
   "file_extension": ".py",
   "mimetype": "text/x-python",
   "name": "python",
   "nbconvert_exporter": "python",
   "pygments_lexer": "ipython3",
   "version": "3.8.8"
  },
  "orig_nbformat": 4
 },
 "nbformat": 4,
 "nbformat_minor": 2
}
