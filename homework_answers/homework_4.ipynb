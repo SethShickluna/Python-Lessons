{
 "cells": [
  {
   "cell_type": "code",
   "execution_count": 1,
   "metadata": {},
   "outputs": [
    {
     "name": "stdout",
     "output_type": "stream",
     "text": [
      "{'username': 'seths', 'password': '1234', 'money': 648.98}\n",
      "{'username': 'seths', 'password': 'abcd', 'money': 748.98, 'country': 'Canada'}\n"
     ]
    }
   ],
   "source": [
    "# dictonary stuff \n",
    "my_dict = {\"username\": \"seths\", \"password\":\"1234\", \"money\": 648.98}\n",
    "print(my_dict)\n",
    "\n",
    "my_dict.update({\"country\":\"Canada\"})\n",
    "my_dict['money'] += 100 \n",
    "my_dict[\"password\"] = 'abcd'\n",
    "\n",
    "print(my_dict)\n"
   ]
  },
  {
   "cell_type": "code",
   "execution_count": 17,
   "metadata": {},
   "outputs": [
    {
     "name": "stdout",
     "output_type": "stream",
     "text": [
      "NAme\n",
      "Python\n",
      "Hello\n"
     ]
    }
   ],
   "source": [
    "# greater function \n",
    "\n",
    "def greater(num1, num2): \n",
    "    return num1 if num1 > num2 else num2\n",
    "\n",
    "def lower(num1, num2): \n",
    "    return num1 if num1 < num2 else num2\n",
    "\n",
    "def find_strings(string_list): \n",
    "    for string in string_list: \n",
    "        if isinstance(string, str): \n",
    "            print(string)\n",
    "\n",
    "lst = [\"NAme\", 92, \"Python\", 3.21, \"Hello\"]\n",
    "\n",
    "\n",
    "find_strings(lst)"
   ]
  }
 ],
 "metadata": {
  "interpreter": {
   "hash": "767d51c1340bd893661ea55ea3124f6de3c7a262a8b4abca0554b478b1e2ff90"
  },
  "kernelspec": {
   "display_name": "Python 3.8.10 64-bit",
   "name": "python3"
  },
  "language_info": {
   "codemirror_mode": {
    "name": "ipython",
    "version": 3
   },
   "file_extension": ".py",
   "mimetype": "text/x-python",
   "name": "python",
   "nbconvert_exporter": "python",
   "pygments_lexer": "ipython3",
   "version": "3.8.10"
  },
  "orig_nbformat": 4
 },
 "nbformat": 4,
 "nbformat_minor": 2
}
