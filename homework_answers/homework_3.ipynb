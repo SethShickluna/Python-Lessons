{
 "cells": [
  {
   "cell_type": "markdown",
   "metadata": {},
   "source": [
    "# Week 3 homework \n",
    "## Reverse.py\n",
    "\n",
    "- Make a program called reverse.py\n",
    "- Ask the user to input a sentence\n",
    "- using the split() string method, split the user input into individual words (recall that this returns a list)\n",
    "- print the sentence backwards\n",
    "\n",
    "example: input -> \"Hello my name is Seth\" output -> \"Seth is name my Hello\""
   ]
  },
  {
   "cell_type": "code",
   "execution_count": 4,
   "metadata": {},
   "outputs": [
    {
     "name": "stdout",
     "output_type": "stream",
     "text": [
      "Rolland! named cat a have I Hello, "
     ]
    }
   ],
   "source": [
    "#standard solution \n",
    "\n",
    "sentence = input(\"Enter a sentence: \")\n",
    "sentence_list = sentence.split()\n",
    "sentence_list.reverse()\n",
    "\n",
    "for word in sentence_list: \n",
    "    print(word, end = \" \")"
   ]
  },
  {
   "cell_type": "code",
   "execution_count": null,
   "metadata": {},
   "outputs": [],
   "source": [
    "# here is an advanced example \n",
    "\n",
    "print(' '.join(input(\"Please enter a sentence: \").split()[::-1]))"
   ]
  },
  {
   "cell_type": "markdown",
   "metadata": {},
   "source": [
    "# Let's break that example down "
   ]
  },
  {
   "cell_type": "code",
   "execution_count": null,
   "metadata": {},
   "outputs": [],
   "source": [
    "# ' '.join()  this is taking each element from a list and joining them into a string, separated by \" \"\n",
    "# input(\"Please enter a sentence \").split(\" \")  this is making a list from the inputted string \n",
    "# [::-1] slices the list backwards, therefore reversing it \n",
    "\n",
    "# we can do this because the type of each variable along the way is correct for the method call \n",
    "\n",
    "#breaking it down we get \n",
    "string = input(\"Please enter a sentence: \")\n",
    "\n",
    "print(string)\n"
   ]
  }
 ],
 "metadata": {
  "interpreter": {
   "hash": "767d51c1340bd893661ea55ea3124f6de3c7a262a8b4abca0554b478b1e2ff90"
  },
  "kernelspec": {
   "display_name": "Python 3.8.10 64-bit",
   "name": "python3"
  },
  "language_info": {
   "codemirror_mode": {
    "name": "ipython",
    "version": 3
   },
   "file_extension": ".py",
   "mimetype": "text/x-python",
   "name": "python",
   "nbconvert_exporter": "python",
   "pygments_lexer": "ipython3",
   "version": "3.8.10"
  },
  "orig_nbformat": 4
 },
 "nbformat": 4,
 "nbformat_minor": 2
}
