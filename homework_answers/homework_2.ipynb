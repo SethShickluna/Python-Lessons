{
 "cells": [
  {
   "cell_type": "markdown",
   "metadata": {},
   "source": [
    "# Question 1 \n",
    "- adder.py\n",
    "- use a while loop to take user input and add it to a counter until that value is greater than 100 \n",
    "- print the final number"
   ]
  },
  {
   "cell_type": "code",
   "execution_count": 1,
   "metadata": {},
   "outputs": [
    {
     "name": "stdout",
     "output_type": "stream",
     "text": [
      "0 + 10 = 10\n",
      "10 + 17 = 27\n",
      "27 + 40 = 67\n",
      "67 + 35 = 102\n",
      "102\n"
     ]
    }
   ],
   "source": [
    "# adder.py \n",
    "\n",
    "sum_ = 0 \n",
    "\n",
    "\n",
    "while sum_ <= 100: \n",
    "    num = input(\"Enter a number: \")\n",
    "\n",
    "    if num.isdigit(): \n",
    "        num = int(num)\n",
    "        sum_ += num\n",
    "        \n",
    "        print(f'{sum_ - num} + {num} = {sum_}')\n",
    "    else: \n",
    "        print(\"Invalid entry!\")\n",
    "\n",
    "\n",
    "print(sum_)"
   ]
  },
  {
   "cell_type": "code",
   "execution_count": 16,
   "metadata": {},
   "outputs": [
    {
     "name": "stdout",
     "output_type": "stream",
     "text": [
      "0\n",
      "1\n",
      "2\n",
      "3\n",
      "4\n",
      "5\n",
      "6\n",
      "7\n",
      "8\n",
      "9\n",
      "10\n"
     ]
    }
   ],
   "source": [
    "# make a program which counts to 10 \n",
    "\n",
    "num = 0 \n",
    "\n",
    "while num < 11: \n",
    "    print(num)\n",
    "    num +=1"
   ]
  },
  {
   "cell_type": "code",
   "execution_count": 2,
   "metadata": {},
   "outputs": [
    {
     "name": "stdout",
     "output_type": "stream",
     "text": [
      "110\n"
     ]
    }
   ],
   "source": [
    "variable = 0 \n",
    "\n",
    "while variable < 100: \n",
    "    variable += int(input(\"enter a number: \"))\n",
    "\n",
    "print(variable)"
   ]
  },
  {
   "cell_type": "markdown",
   "metadata": {},
   "source": [
    "# strings.py\n",
    "- check if user input is a valid number \n",
    "- if it is valid, print that number / 10 \n",
    "- otherwise print the string with the first and last character removed "
   ]
  },
  {
   "cell_type": "code",
   "execution_count": 1,
   "metadata": {},
   "outputs": [
    {
     "name": "stdout",
     "output_type": "stream",
     "text": [
      "80 / 10 = 8.0\n"
     ]
    }
   ],
   "source": [
    "# strings.py \n",
    "\n",
    "input_ = input(\"Enter something here: \")\n",
    "\n",
    "# isdigit() \n",
    "# 99h2 -> false\n",
    "# 111 -> true\n",
    "\n",
    "# indexing strings \n",
    "# \"Seth\"\n",
    "\n",
    "if input_.isdigit(): \n",
    "    num = int(input_) / 10\n",
    "\n",
    "    print(f\"{input_} / 10 = {num}\")\n",
    "else: \n",
    "    print(input_[1:-1])\n",
    "    "
   ]
  },
  {
   "cell_type": "code",
   "execution_count": 15,
   "metadata": {},
   "outputs": [
    {
     "name": "stdout",
     "output_type": "stream",
     "text": [
      "Et\n"
     ]
    }
   ],
   "source": [
    "\n"
   ]
  }
 ],
 "metadata": {
  "interpreter": {
   "hash": "767d51c1340bd893661ea55ea3124f6de3c7a262a8b4abca0554b478b1e2ff90"
  },
  "kernelspec": {
   "display_name": "Python 3.8.10 64-bit",
   "name": "python3"
  },
  "language_info": {
   "codemirror_mode": {
    "name": "ipython",
    "version": 3
   },
   "file_extension": ".py",
   "mimetype": "text/x-python",
   "name": "python",
   "nbconvert_exporter": "python",
   "pygments_lexer": "ipython3",
   "version": "3.8.10"
  },
  "orig_nbformat": 4
 },
 "nbformat": 4,
 "nbformat_minor": 2
}
