{
 "cells": [
  {
   "cell_type": "markdown",
   "metadata": {},
   "source": [
    "# Question 1 \n",
    "- adder.py\n",
    "- use a while loop to take user input and add it to a counter until that value is greater than 100 \n",
    "- print the final number"
   ]
  },
  {
   "cell_type": "code",
   "execution_count": 1,
   "metadata": {},
   "outputs": [
    {
     "name": "stdout",
     "output_type": "stream",
     "text": [
      "0 + 10 = 10\n",
      "10 + 17 = 27\n",
      "27 + 40 = 67\n",
      "67 + 35 = 102\n",
      "102\n"
     ]
    }
   ],
   "source": [
    "# adder.py \n",
    "\n",
    "sum_ = 0 \n",
    "\n",
    "\n",
    "while sum_ <= 100: \n",
    "    num = input(\"Enter a number: \")\n",
    "\n",
    "    if num.isdigit(): \n",
    "        num = int(num)\n",
    "        sum_ += num\n",
    "        print(f'{sum_ - num} + {num} = {sum_}')\n",
    "    else: \n",
    "        print(\"Invalid entry!\")\n",
    "\n",
    "\n",
    "print(sum_)"
   ]
  },
  {
   "cell_type": "code",
   "execution_count": 2,
   "metadata": {},
   "outputs": [
    {
     "name": "stdout",
     "output_type": "stream",
     "text": [
      "110\n"
     ]
    }
   ],
   "source": [
    "variable = 0 \n",
    "\n",
    "while variable < 100: \n",
    "    variable += int(input(\"enter a number: \"))\n",
    "\n",
    "print(variable)"
   ]
  },
  {
   "cell_type": "markdown",
   "metadata": {},
   "source": [
    "# strings.py\n",
    "- check if user input is a valid number \n",
    "- if it is valid, print that number / 10 \n",
    "- otherwise print the string with the first and last character removed "
   ]
  },
  {
   "cell_type": "code",
   "execution_count": 4,
   "metadata": {},
   "outputs": [
    {
     "name": "stdout",
     "output_type": "stream",
     "text": [
      "7gb6\n"
     ]
    }
   ],
   "source": [
    "# strings.py \n",
    "\n",
    "input_ = input(\"Enter something here: \")\n",
    "\n",
    "if input_.isdigit(): \n",
    "    print(f\"{input_} / 10 = {int(input_) / 10}\")\n",
    "else: \n",
    "    print(input_[1:-1])"
   ]
  }
 ],
 "metadata": {
  "interpreter": {
   "hash": "7f2315f694e152c29e344141d749526cdfb5be5cc5e5949ea65827205c8677e7"
  },
  "kernelspec": {
   "display_name": "Python 3.8.8 64-bit ('base': conda)",
   "name": "python3"
  },
  "language_info": {
   "codemirror_mode": {
    "name": "ipython",
    "version": 3
   },
   "file_extension": ".py",
   "mimetype": "text/x-python",
   "name": "python",
   "nbconvert_exporter": "python",
   "pygments_lexer": "ipython3",
   "version": "3.8.8"
  },
  "orig_nbformat": 4
 },
 "nbformat": 4,
 "nbformat_minor": 2
}
