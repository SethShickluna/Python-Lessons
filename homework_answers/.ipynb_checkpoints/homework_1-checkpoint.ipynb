{
 "cells": [
  {
   "cell_type": "markdown",
   "source": [
    "# Question 1 \r\n",
    "- Write a simple program called name.py\r\n",
    "- Ask for the user's first name and last name\r\n",
    "- Output these on 2 separate lines \r\n",
    "- Use only 1 print statement\r\n",
    "\r\n",
    "## There are many solutions to this, this is just one of them"
   ],
   "metadata": {}
  },
  {
   "cell_type": "code",
   "execution_count": 1,
   "source": [
    "#name.py\r\n",
    "first_name = input(\"What is your first name? \")\r\n",
    "last_name = input(\"What is your last name? \")\r\n",
    "print(first_name, last_name, sep = '\\n')"
   ],
   "outputs": [
    {
     "output_type": "stream",
     "name": "stdout",
     "text": [
      "Seth\n",
      "Shickluna\n"
     ]
    }
   ],
   "metadata": {}
  },
  {
   "cell_type": "markdown",
   "source": [
    "# Question 2 \r\n",
    "- Write a program called ifelse.py \r\n",
    "- Take in user input\r\n",
    "- If that input is \"hello\" or \"world\" print \"Hello, World\" \r\n",
    "- Otherwise print the original input "
   ],
   "metadata": {}
  },
  {
   "cell_type": "code",
   "execution_count": 2,
   "source": [
    "text = input(\"Please say something: \")\r\n",
    "\r\n",
    "if text == \"hello\":\r\n",
    "    print(\"Hello World\")\r\n",
    "elif text == \"world\": \r\n",
    "    print(\"Hello World\")\r\n",
    "else: \r\n",
    "    print(text)\r\n"
   ],
   "outputs": [
    {
     "output_type": "stream",
     "name": "stdout",
     "text": [
      "Hello World\n",
      "hello\n"
     ]
    }
   ],
   "metadata": {}
  },
  {
   "cell_type": "markdown",
   "source": [
    "# Question 3\r\n",
    "- Write a program called food.py \r\n",
    "- Ignore capital letters on input \r\n",
    "- Ask the user for their name and favorite food \r\n",
    "- If the food is \"pizza\", print \"Nice choice\" \r\n",
    "- If the food is hotdog, print the user's name in all capital letters\r\n",
    "- Otherwise print the user's name in lowercase letters, and the food in capital letters"
   ],
   "metadata": {}
  },
  {
   "cell_type": "code",
   "execution_count": 3,
   "source": [
    "name = input(\"What is your name? \").lower()\r\n",
    "food = input(\"What is your favourite food? \").lower()\r\n",
    "\r\n",
    "if food == \"pizza\": \r\n",
    "    print(\"Nice choice\")\r\n",
    "elif food == \"hotdog\": \r\n",
    "    print(name.upper())\r\n",
    "else: \r\n",
    "    print(name, food.upper())"
   ],
   "outputs": [
    {
     "output_type": "stream",
     "name": "stdout",
     "text": [
      "JIMMY\n"
     ]
    }
   ],
   "metadata": {}
  }
 ],
 "metadata": {
  "orig_nbformat": 4,
  "language_info": {
   "name": "python",
   "version": "3.8.8",
   "mimetype": "text/x-python",
   "codemirror_mode": {
    "name": "ipython",
    "version": 3
   },
   "pygments_lexer": "ipython3",
   "nbconvert_exporter": "python",
   "file_extension": ".py"
  },
  "kernelspec": {
   "name": "python3",
   "display_name": "Python 3.8.8 64-bit ('base': conda)"
  },
  "interpreter": {
   "hash": "7f2315f694e152c29e344141d749526cdfb5be5cc5e5949ea65827205c8677e7"
  }
 },
 "nbformat": 4,
 "nbformat_minor": 2
}