{
 "cells": [
  {
   "cell_type": "markdown",
   "metadata": {},
   "source": [
    "# 2D Arrays!!"
   ]
  },
  {
   "cell_type": "code",
   "execution_count": null,
   "metadata": {},
   "outputs": [],
   "source": [
    "# lists = [1,2,3,4] / [\"names\", [\"another\", \"string\"]]\n",
    "# arrays and lists are the same thing (just different names)\n",
    "\n",
    "lst = [1, 2, 3, 4, 5]\n",
    "\n",
    "# how would i get the first item here? \n",
    "lst[0] \n",
    "# how would i get the last item here? (2 ways to do this)\n",
    "lst[-1] \n",
    "lst[len(lst) - 1]"
   ]
  },
  {
   "cell_type": "markdown",
   "metadata": {},
   "source": [
    "# what about lists inside of lists?"
   ]
  },
  {
   "cell_type": "code",
   "execution_count": 4,
   "metadata": {},
   "outputs": [
    {
     "name": "stdout",
     "output_type": "stream",
     "text": [
      "[1, 2, 3]\n",
      "1\n",
      "9\n",
      "[[1, 2, 3], [4, 5, 6], [7, 8, 9]]\n"
     ]
    }
   ],
   "source": [
    "array = [\n",
    "            [1,2,3], \n",
    "            [4,5,6], \n",
    "            [7,8,9] # this us a 2d array \n",
    "        ]\n",
    "\n",
    "#what is the output of some of these? \n",
    "print(array[0]) # the first item in array\n",
    "print(array[0][0])\n",
    "print(array[2][2])\n",
    "print(array)"
   ]
  },
  {
   "cell_type": "code",
   "execution_count": 10,
   "metadata": {},
   "outputs": [
    {
     "name": "stdout",
     "output_type": "stream",
     "text": [
      "[0, 0, 0, 0, 0, 0, 0, 0, 0, 0]\n",
      "[0, 0, 0, 0, 0, 0, 0, 0, 0, 0]\n",
      "[0, 0, 0, 0, 0, 0, 0, 0, 0, 0]\n",
      "[0, 0, 0, 0, 0, 0, 0, 0, 0, 0]\n",
      "[0, 0, 0, 0, 0, 0, 0, 0, 0, 0]\n",
      "[0, 0, 0, 0, 0, 0, 0, 0, 0, 0]\n",
      "[0, 0, 0, 0, 0, 0, 0, 0, 0, 0]\n",
      "[0, 0, 0, 0, 0, 0, 0, 0, 0, 0]\n",
      "[0, 0, 0, 0, 0, 0, 0, 0, 0, 0]\n",
      "[0, 0, 0, 0, 0, 0, 0, 0, 0, 0]\n"
     ]
    }
   ],
   "source": [
    "# this is a very powerful tool for representing data as a grid \n",
    "\n",
    "#list comprehension example: \n",
    "my_2d_array = [[0 for _ in range(10)] for _ in range(10)] #  quick tip we can use an underscore if we dont need the variable\n",
    "\n",
    "for row in my_2d_array: \n",
    "    print(row)"
   ]
  },
  {
   "cell_type": "code",
   "execution_count": 23,
   "metadata": {},
   "outputs": [
    {
     "name": "stdout",
     "output_type": "stream",
     "text": [
      "--------------------------------------------------\n",
      "E E E \n",
      "E X E \n",
      "E E E \n",
      "--------------------------------------------------\n",
      "E E O \n",
      "E X E \n",
      "E E E \n",
      "That move is invalid, please pick another one!\n",
      "That move is invalid, please pick another one!\n",
      "--------------------------------------------------\n",
      "E X O \n",
      "E X E \n",
      "E E E \n",
      "--------------------------------------------------\n",
      "E X O \n",
      "E X E \n",
      "E E O \n",
      "--------------------------------------------------\n",
      "E X O \n",
      "E X E \n",
      "E X O \n",
      "--------------------------------------------------\n",
      "E X O \n",
      "O X E \n",
      "E X O \n"
     ]
    },
    {
     "ename": "ValueError",
     "evalue": "invalid literal for int() with base 10: ''",
     "output_type": "error",
     "traceback": [
      "\u001b[1;31m---------------------------------------------------------------------------\u001b[0m",
      "\u001b[1;31mValueError\u001b[0m                                Traceback (most recent call last)",
      "\u001b[1;32m<ipython-input-23-2d92094d1066>\u001b[0m in \u001b[0;36m<module>\u001b[1;34m\u001b[0m\n\u001b[0;32m     55\u001b[0m \u001b[1;32mwhile\u001b[0m \u001b[1;32mTrue\u001b[0m\u001b[1;33m:\u001b[0m\u001b[1;33m\u001b[0m\u001b[1;33m\u001b[0m\u001b[0m\n\u001b[0;32m     56\u001b[0m \u001b[1;33m\u001b[0m\u001b[0m\n\u001b[1;32m---> 57\u001b[1;33m     \u001b[0mmake_move\u001b[0m\u001b[1;33m(\u001b[0m\u001b[1;33m)\u001b[0m\u001b[1;33m\u001b[0m\u001b[1;33m\u001b[0m\u001b[0m\n\u001b[0m\u001b[0;32m     58\u001b[0m     \u001b[0mmake_cpu_move\u001b[0m\u001b[1;33m(\u001b[0m\u001b[1;33m)\u001b[0m\u001b[1;33m\u001b[0m\u001b[1;33m\u001b[0m\u001b[0m\n\u001b[0;32m     59\u001b[0m \u001b[1;33m\u001b[0m\u001b[0m\n",
      "\u001b[1;32m<ipython-input-23-2d92094d1066>\u001b[0m in \u001b[0;36mmake_move\u001b[1;34m()\u001b[0m\n\u001b[0;32m     25\u001b[0m         \u001b[0mmove_data\u001b[0m \u001b[1;33m=\u001b[0m \u001b[0mmove\u001b[0m\u001b[1;33m.\u001b[0m\u001b[0msplit\u001b[0m\u001b[1;33m(\u001b[0m\u001b[1;34m\" \"\u001b[0m\u001b[1;33m)\u001b[0m\u001b[1;33m\u001b[0m\u001b[1;33m\u001b[0m\u001b[0m\n\u001b[0;32m     26\u001b[0m \u001b[1;33m\u001b[0m\u001b[0m\n\u001b[1;32m---> 27\u001b[1;33m         \u001b[0mx\u001b[0m \u001b[1;33m=\u001b[0m \u001b[0mint\u001b[0m\u001b[1;33m(\u001b[0m\u001b[0mmove_data\u001b[0m\u001b[1;33m[\u001b[0m\u001b[1;36m0\u001b[0m\u001b[1;33m]\u001b[0m\u001b[1;33m)\u001b[0m\u001b[1;33m\u001b[0m\u001b[1;33m\u001b[0m\u001b[0m\n\u001b[0m\u001b[0;32m     28\u001b[0m         \u001b[0my\u001b[0m \u001b[1;33m=\u001b[0m \u001b[0mint\u001b[0m\u001b[1;33m(\u001b[0m\u001b[0mmove_data\u001b[0m\u001b[1;33m[\u001b[0m\u001b[1;36m1\u001b[0m\u001b[1;33m]\u001b[0m\u001b[1;33m)\u001b[0m\u001b[1;33m\u001b[0m\u001b[1;33m\u001b[0m\u001b[0m\n\u001b[0;32m     29\u001b[0m \u001b[1;33m\u001b[0m\u001b[0m\n",
      "\u001b[1;31mValueError\u001b[0m: invalid literal for int() with base 10: ''"
     ]
    }
   ],
   "source": [
    "# tic tac toe \n",
    "import random\n",
    "\n",
    "board = [[\"E\" for _ in range(3)] for _ in range(3)]\n",
    "\n",
    "def print_board():\n",
    "    \n",
    "    print(\"-\"*50)\n",
    "    \n",
    "    for row in board: \n",
    "        for col in row: \n",
    "            print(col, end=\" \")\n",
    "        print()\n",
    "    \n",
    "\n",
    "def make_move(): \n",
    "    # X O's and \" \" <- empty space is blank \n",
    "    \n",
    "    valid_move = False\n",
    "    x = 0 \n",
    "    y = 0 \n",
    "    \n",
    "    while not valid_move: \n",
    "        move = input(\"Enter coordinates with a space: \")\n",
    "        move_data = move.split(\" \")\n",
    "        \n",
    "        x = int(move_data[0]) \n",
    "        y = int(move_data[1])\n",
    "\n",
    "        if board[x][y] == \"E\": \n",
    "            valid_move = True\n",
    "        else: \n",
    "            print(\"That move is invalid, please pick another one!\")\n",
    "\n",
    "    board[x][y] = \"X\"\n",
    "\n",
    "    print_board()\n",
    "\n",
    "def make_cpu_move(): \n",
    "    valid_move = False\n",
    "    rand_x = 0 \n",
    "    rand_y = 0\n",
    "    \n",
    "    while not valid_move: \n",
    "        rand_x = random.randint(0, 2)\n",
    "        rand_y = random.randint(0, 2) \n",
    "        \n",
    "        if board[rand_x][rand_y] == \"E\": \n",
    "            valid_move = True\n",
    "\n",
    "    board[rand_x][rand_y] = \"O\"\n",
    "    \n",
    "    print_board()\n",
    "\n",
    "while True: \n",
    "    \n",
    "    make_move()\n",
    "    make_cpu_move()\n",
    "    \n"
   ]
  }
 ],
 "metadata": {
  "interpreter": {
   "hash": "7f2315f694e152c29e344141d749526cdfb5be5cc5e5949ea65827205c8677e7"
  },
  "kernelspec": {
   "display_name": "Python 3.8.8 64-bit ('base': conda)",
   "language": "python",
   "name": "python3"
  },
  "language_info": {
   "codemirror_mode": {
    "name": "ipython",
    "version": 3
   },
   "file_extension": ".py",
   "mimetype": "text/x-python",
   "name": "python",
   "nbconvert_exporter": "python",
   "pygments_lexer": "ipython3",
   "version": "3.8.8"
  },
  "orig_nbformat": 4
 },
 "nbformat": 4,
 "nbformat_minor": 2
}
