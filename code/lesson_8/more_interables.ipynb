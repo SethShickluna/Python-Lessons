{
 "cells": [
  {
   "cell_type": "markdown",
   "metadata": {},
   "source": [
    "# ENUMERATE!!!\n"
   ]
  },
  {
   "cell_type": "code",
   "execution_count": 11,
   "metadata": {},
   "outputs": [
    {
     "name": "stdout",
     "output_type": "stream",
     "text": [
      "1 Ryan\n",
      "2 Alia\n",
      "3 Jimmy\n"
     ]
    }
   ],
   "source": [
    "# This helps us count or order items in a collection that dont have an otherwise distinct order \n",
    "\n",
    "names = [\"Ryan\", \"Alia\", \"Jimmy\"]\n",
    "\n",
    "for num, name in enumerate(names): \n",
    "    print(num + 1, name)\n",
    "    "
   ]
  },
  {
   "cell_type": "code",
   "execution_count": 13,
   "metadata": {},
   "outputs": [
    {
     "name": "stdout",
     "output_type": "stream",
     "text": [
      "['ya', 'li', 'mm']\n"
     ]
    }
   ],
   "source": [
    "# map() \n",
    "# this maps a new value when given an expression (function) and collection (list)\n",
    "\n",
    "\n",
    "def add_n(n): \n",
    "    return n**2\n",
    "\n",
    "def last_char(str): \n",
    "    return str[-3:-1]\n",
    "\n",
    "nums = [1, 2, 3, 4, 5]\n",
    "\n",
    "result = map(last_char, names) \n",
    "\n",
    "print(list(result))\n"
   ]
  }
 ],
 "metadata": {
  "interpreter": {
   "hash": "7f2315f694e152c29e344141d749526cdfb5be5cc5e5949ea65827205c8677e7"
  },
  "kernelspec": {
   "display_name": "Python 3.8.8 64-bit ('base': conda)",
   "language": "python",
   "name": "python3"
  },
  "language_info": {
   "codemirror_mode": {
    "name": "ipython",
    "version": 3
   },
   "file_extension": ".py",
   "mimetype": "text/x-python",
   "name": "python",
   "nbconvert_exporter": "python",
   "pygments_lexer": "ipython3",
   "version": "3.8.8"
  },
  "orig_nbformat": 4
 },
 "nbformat": 4,
 "nbformat_minor": 2
}
