{
 "cells": [
  {
   "cell_type": "code",
   "execution_count": 4,
   "metadata": {},
   "outputs": [
    {
     "name": "stdout",
     "output_type": "stream",
     "text": [
      "('Mom', 'Dad', 'Grandma', 'Dad')\n",
      "Grandma\n"
     ]
    }
   ],
   "source": [
    "# Tuples \n",
    "# tuples are a data type which can store multiple pieces of data \n",
    "# ordered, unchangeable \n",
    "\n",
    "#syntax \n",
    "my_tuple = (\"Mom\", \"Dad\", \"Grandma\", \"Dad\") # we can have duplicates \n",
    "print(my_tuple)\n",
    "print(my_tuple[-2])"
   ]
  },
  {
   "cell_type": "code",
   "execution_count": 5,
   "metadata": {},
   "outputs": [
    {
     "name": "stdout",
     "output_type": "stream",
     "text": [
      "dict_items([('one', 1), ('two', 2), ('three', 3)])\n",
      "one 1\n",
      "two 2\n",
      "three 3\n",
      "Mom\n",
      "Dad\n",
      "Grandma\n",
      "Dad\n"
     ]
    }
   ],
   "source": [
    "my_dict = {\"one\": 1, \"two\": 2, \"three\": 3}\n",
    "\n",
    "items = my_dict.items() #list of tuples with key/value pair \n",
    "print(items)\n",
    "\n",
    "for key, value in items: #you can iterate over multiple values of a tuple \n",
    "    print(key, value)\n",
    "\n",
    "for val in my_tuple: \n",
    "    print(val)\n"
   ]
  },
  {
   "cell_type": "code",
   "execution_count": 8,
   "metadata": {},
   "outputs": [
    {
     "name": "stdout",
     "output_type": "stream",
     "text": [
      "('Mom', 'Dad', 'Will')\n",
      "Mom Dad Will\n"
     ]
    }
   ],
   "source": [
    "my_tuple = (\"Mom\", \"Dad\", \"Will\") # packing a tuple \n",
    "print(my_tuple)\n",
    "\n",
    "(mom, dad, brother) = my_tuple # unpacking a tuple\n",
    "print(mom, dad, brother)"
   ]
  },
  {
   "cell_type": "code",
   "execution_count": 9,
   "metadata": {},
   "outputs": [
    {
     "name": "stdout",
     "output_type": "stream",
     "text": [
      "3\n",
      "(1, 'Pizza', True, [1, 2, 3], 'racecar')\n",
      "('racecar', [1, 2, 3], True, 'Pizza', 1)\n",
      "(True, [1, 2, 3])\n"
     ]
    }
   ],
   "source": [
    "# we still get the length the same way \n",
    "print(len(my_tuple)) # whats this value? \n",
    "\n",
    "#tuples can also hold different data types \n",
    "my_other_tuple = (1, \"Pizza\", True, [1, 2, 3], \"racecar\")\n",
    "print(my_other_tuple)\n",
    "\n",
    "# we can still apply negative indexing to tuples \n",
    "print(my_other_tuple[::-1])\n",
    "print(my_other_tuple[2: -1])"
   ]
  },
  {
   "cell_type": "code",
   "execution_count": 11,
   "metadata": {},
   "outputs": [
    {
     "name": "stdout",
     "output_type": "stream",
     "text": [
      "('Mom', 'Grandpa', 'Will', 'Sister', 'Cousin')\n",
      "['Mom', 'Grandpa', 'Will', 'Sister', 'Cousin']\n",
      "('Mom', 'Grandpa', 'Will', 'Sister', 'Cousin', 'Sister', 'Cousin')\n",
      "('Mom', 'Grandpa', 'Will', 'Sister', 'Cousin', 'Sister', 'Cousin')\n",
      "<class 'tuple'>\n"
     ]
    }
   ],
   "source": [
    "#adding new values \n",
    "print(my_tuple)\n",
    "my_lst = list(my_tuple) # we can create a list from a tuple \n",
    "my_lst.append(\"Sister\")\n",
    "my_lst.append(\"Cousin\")\n",
    "my_tuple = tuple(my_lst) #make the new tuple\n",
    "print(my_tuple)\n",
    "\n",
    "#change values in a tuple \n",
    "my_lst = list(my_tuple) # we can create a list from a tuple \n",
    "my_lst[1] = \"Grandpa\"\n",
    "my_tuple = tuple(my_lst) #make the new tuple\n",
    "print(my_tuple)\n",
    "print(type(my_tuple))"
   ]
  },
  {
   "cell_type": "code",
   "execution_count": 12,
   "metadata": {},
   "outputs": [
    {
     "name": "stdout",
     "output_type": "stream",
     "text": [
      "('Apple', 'Peach', 'Blueberry') ('Carrot',)\n",
      "('Apple', 'Peach', 'Blueberry', 'Carrot')\n"
     ]
    }
   ],
   "source": [
    "# we can add two tuples together \n",
    "# this creates a new tuple with values from both of them \n",
    "x = (\"Apple\", \"Peach\", \"Blueberry\")\n",
    "y = (\"Carrot\",)\n",
    "print(x, y)\n",
    "\n",
    "x += y\n",
    "\n",
    "print(x)"
   ]
  },
  {
   "cell_type": "code",
   "execution_count": 15,
   "metadata": {},
   "outputs": [
    {
     "name": "stdout",
     "output_type": "stream",
     "text": [
      "[('A', 1), ('A', 2), ('A', 3), ('A', 4), ('A', 5), ('A', 6), ('A', 7), ('A', 8), ('B', 1), ('B', 2), ('B', 3), ('B', 4), ('B', 5), ('B', 6), ('B', 7), ('B', 8), ('C', 1), ('C', 2), ('C', 3), ('C', 4), ('C', 5), ('C', 6), ('C', 7), ('C', 8), ('D', 1), ('D', 2), ('D', 3), ('D', 4), ('D', 5), ('D', 6), ('D', 7), ('D', 8), ('E', 1), ('E', 2), ('E', 3), ('E', 4), ('E', 5), ('E', 6), ('E', 7), ('E', 8), ('F', 1), ('F', 2), ('F', 3), ('F', 4), ('F', 5), ('F', 6), ('F', 7), ('F', 8), ('G', 1), ('G', 2), ('G', 3), ('G', 4), ('G', 5), ('G', 6), ('G', 7), ('G', 8), ('H', 1), ('H', 2), ('H', 3), ('H', 4), ('H', 5), ('H', 6), ('H', 7), ('H', 8)]\n",
      "64\n"
     ]
    }
   ],
   "source": [
    "# idea of this exercise is to make all the coordinates of a chess board and store them in tuples \n",
    "\n",
    "def create_coords(): \n",
    "    result = []\n",
    "    number_to_letter = {1: \"A\", 2: \"B\", 3: \"C\", 4: \"D\", 5: \"E\", 6: \"F\", 7: \"G\", 8: \"H\"}\n",
    "    \n",
    "    for num in range(1, 9): \n",
    "        for num2 in range(1, 9): \n",
    "            \n",
    "            temp_tuple = (number_to_letter[num], num2)\n",
    "            result.append(temp_tuple)\n",
    "            \n",
    "    return result\n",
    "\n",
    "chess_coords = create_coords()\n",
    "\n",
    "print(chess_coords)\n",
    "print(len(chess_coords))\n",
    "    "
   ]
  }
 ],
 "metadata": {
  "interpreter": {
   "hash": "767d51c1340bd893661ea55ea3124f6de3c7a262a8b4abca0554b478b1e2ff90"
  },
  "kernelspec": {
   "display_name": "Python 3.8.10 64-bit",
   "name": "python3"
  },
  "language_info": {
   "codemirror_mode": {
    "name": "ipython",
    "version": 3
   },
   "file_extension": ".py",
   "mimetype": "text/x-python",
   "name": "python",
   "nbconvert_exporter": "python",
   "pygments_lexer": "ipython3",
   "version": "3.8.8"
  },
  "orig_nbformat": 4
 },
 "nbformat": 4,
 "nbformat_minor": 2
}
