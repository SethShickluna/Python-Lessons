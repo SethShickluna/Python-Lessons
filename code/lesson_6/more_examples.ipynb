{
 "cells": [
  {
   "cell_type": "markdown",
   "metadata": {},
   "source": [
    "# New Keywords for loops "
   ]
  },
  {
   "cell_type": "code",
   "execution_count": null,
   "metadata": {},
   "outputs": [],
   "source": [
    "# continue keyword \n",
    "# range \n",
    "# break \n",
    "\n",
    "lst = [1, 2, 3, 4, 5 , 6, 7, 8, 9, 10]\n",
    "\n",
    "for num in range(len(lst)): # remember that len(lst) gives the length of the list  \n",
    "    \n",
    "    if lst[num] < 5: \n",
    "        continue\n",
    "\n",
    "    # do something once the condition is met \n",
    "    print(\"Num is greater than 5\")"
   ]
  },
  {
   "cell_type": "code",
   "execution_count": null,
   "metadata": {},
   "outputs": [],
   "source": [
    "# more about the range function \n",
    "# range (start, end, step)\n",
    "\n",
    "for x in range(len(lst) - 1, -1, -1): #start length - 1 because index 1 is 0, then step backwards each time\n",
    "    #print(lst[x])\n",
    "    pass\n",
    "\n",
    "# another step example \n",
    "for x in range(1, 20, 2): \n",
    "    print(x)"
   ]
  },
  {
   "cell_type": "code",
   "execution_count": 13,
   "metadata": {},
   "outputs": [
    {
     "name": "stdout",
     "output_type": "stream",
     "text": [
      "current searching for 1 in the list.\n",
      "current searching for 2 in the list.\n",
      "current searching for 3 in the list.\n",
      "current searching for 4 in the list.\n",
      "True\n"
     ]
    }
   ],
   "source": [
    "# break keyword \n",
    "\n",
    "def search_list(lst, val): \n",
    "    #search the lst for val, return either true or false \n",
    "    result = False\n",
    "    for x in lst: \n",
    "        print(\"current searching for\", x, \"in the list.\")\n",
    "        if x == val: \n",
    "            result = True\n",
    "            break # the return keyword does the same thing in this context \n",
    "\n",
    "        \n",
    "    \n",
    "    return result\n",
    "\n",
    "print(search_list(lst, 4))\n"
   ]
  },
  {
   "cell_type": "code",
   "execution_count": 14,
   "metadata": {},
   "outputs": [
    {
     "name": "stdout",
     "output_type": "stream",
     "text": [
      "Counter is currently 0\n",
      "Counter is currently 1\n",
      "Counter is currently 2\n",
      "Counter is currently 3\n",
      "Counter is currently 4\n",
      "Counter is currently 5\n",
      "Counter is currently 6\n",
      "6\n"
     ]
    }
   ],
   "source": [
    "# dont do this!! \n",
    "counter = 0 \n",
    "while True: # (bad)\n",
    "    print(\"Counter is currently\", counter )\n",
    "    if counter > 5: \n",
    "        break \n",
    "\n",
    "    counter += 1"
   ]
  },
  {
   "cell_type": "markdown",
   "metadata": {},
   "source": [
    "# More Function Stuff"
   ]
  },
  {
   "cell_type": "code",
   "execution_count": 25,
   "metadata": {},
   "outputs": [
    {
     "name": "stdout",
     "output_type": "stream",
     "text": [
      "5\n"
     ]
    }
   ],
   "source": [
    "def count(num_1, num_2, num_3): #return the sum of the lowest two numbers \n",
    "\n",
    "    def lowest(num_1, num_2):\n",
    "        return num_1 if num_1 < num_2 else num_2\n",
    "\n",
    "    return lowest(num_1, num_2) + lowest(num_3, num_2)\n",
    "\n",
    "\n",
    "print(count(2, 3, 4))"
   ]
  },
  {
   "cell_type": "code",
   "execution_count": 24,
   "metadata": {},
   "outputs": [
    {
     "name": "stdout",
     "output_type": "stream",
     "text": [
      "4\n",
      "4\n"
     ]
    }
   ],
   "source": [
    "# global / locals \n",
    "\n",
    "def local_counter(): # inside a function, variables are \"local\" to that function, meaning they cannot change variables from outside \n",
    "    global counter # look for variable in the global scope\n",
    "    counter = 4\n",
    "    print(counter)\n",
    "    #print(locals())\n",
    "    #print(globals())\n",
    "\n",
    "local_counter()\n",
    "print(counter) # is it going to be 4 or 6? "
   ]
  }
 ],
 "metadata": {
  "interpreter": {
   "hash": "767d51c1340bd893661ea55ea3124f6de3c7a262a8b4abca0554b478b1e2ff90"
  },
  "kernelspec": {
   "display_name": "Python 3.8.10 64-bit",
   "name": "python3"
  },
  "language_info": {
   "codemirror_mode": {
    "name": "ipython",
    "version": 3
   },
   "file_extension": ".py",
   "mimetype": "text/x-python",
   "name": "python",
   "nbconvert_exporter": "python",
   "pygments_lexer": "ipython3",
   "version": "3.8.10"
  },
  "orig_nbformat": 4
 },
 "nbformat": 4,
 "nbformat_minor": 2
}
