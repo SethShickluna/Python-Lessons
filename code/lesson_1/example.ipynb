{
 "cells": [
  {
   "cell_type": "markdown",
   "metadata": {},
   "source": [
    "# This is a Jupyter Notebook!\n",
    "## We can use 'markdown' to describe what we are doing\n",
    "- Text can be altered using all kinds of special characters\n",
    "- We can create new cells which either contain text or code \n",
    "- All code we write here is saved in real time, meaning that we can re-use it in any cell\n",
    "- All variables and imports work globally between cells\n",
    "\n",
    "# Let's give it a try here\n"
   ]
  },
  {
   "cell_type": "code",
   "execution_count": 2,
   "metadata": {},
   "outputs": [
    {
     "name": "stdout",
     "output_type": "stream",
     "text": [
      "Hello seths\n"
     ]
    }
   ],
   "source": [
    "import os #os is a module built into python - it is used to interact with the operating system (windows or macos) running python \n",
    "print(\"Hello\", os.getlogin()) # getlogin() is a method which os gives us - it returns the current computer user's name\n",
    "\n",
    "#finally, lets define a variable here \n",
    "color = \"blue\""
   ]
  },
  {
   "cell_type": "markdown",
   "metadata": {},
   "source": [
    "# Now lets use that variable in a different cell \n",
    "### We can also see all the variables, functions, and other stuff currently being stored by the notebook"
   ]
  },
  {
   "cell_type": "code",
   "execution_count": 3,
   "metadata": {},
   "outputs": [
    {
     "name": "stdout",
     "output_type": "stream",
     "text": [
      "My favorite color is blue\n",
      "Your login is seths\n",
      "asdajhdk {value}\n"
     ]
    }
   ],
   "source": [
    "print(f\"My favorite color is {color}\")\n",
    "\n",
    "login = os.getlogin()\n",
    "\n",
    "print(f\"Your login is {login}\")\n",
    "\n",
    "value = \"hi\"\n",
    "\n",
    "print(\"asdajhdk {value}\")\n"
   ]
  },
  {
   "cell_type": "markdown",
   "metadata": {},
   "source": [
    "# Great! Now how can you use this? \n",
    "## We need to download a thing or two \n",
    "\n",
    "### There are a couple ways to do this: \n",
    "Unfortunately, the PyCharm community version doesn't support notebooks\n",
    "- We can use Visual Studio Code with a couple plugins (which is what I am doing now)\n",
    "    - Install Visual Studio Code and get the Python and Jupyter exensions\n",
    "    - In the Python terminal install PiP (Python Package Manager) and jupyter\n",
    "- We can also use a Version of Python called Anaconda which will allow us to launch notebooks \n",
    "    - Install Anaconda\n",
    "    - Type 'jupyter notebook' into the anaconda prompt\n",
    "    - This is probably the easiest way to run the code you'll get from these lessons\n",
    "\n",
    "## I will post instructions for both of these methods on the Google Classroom"
   ]
  },
  {
   "cell_type": "code",
   "execution_count": 4,
   "metadata": {},
   "outputs": [
    {
     "name": "stdout",
     "output_type": "stream",
     "text": [
      "Karen Meanie\n",
      "Hello, Karen\n"
     ]
    }
   ],
   "source": [
    "#This is the code from lesson one of the python course\n",
    "#print(\"string\", \"more text\", \"hello\", sep=\"\\n\")\n",
    "#print(\"Hello\", name, sep=\"\")\n",
    "\n",
    "name = input(\"What is your name? \")\n",
    "\n",
    "if name == \"Seth\":\n",
    "    print(\"Your name is seth!\")\n",
    "elif name == \"Hannah\":\n",
    "    print(\"That is a nice name!\")\n",
    "elif name == \"Karen\":\n",
    "    last_name = input(\"What is your last name? \")\n",
    "    print(name, last_name)\n",
    "else:\n",
    "    print(\"I've never heard your name.\")\n",
    "\n",
    "print(\"Hello,\", name)\n"
   ]
  },
  {
   "cell_type": "markdown",
   "metadata": {},
   "source": [
    "# F-Strings\n",
    "## f strings use {} to represent variables inside a string \n",
    "\n",
    "f\"Hello {name}\""
   ]
  },
  {
   "cell_type": "code",
   "execution_count": 11,
   "metadata": {},
   "outputs": [
    {
     "name": "stdout",
     "output_type": "stream",
     "text": [
      "Hello Seth, I like the color blue.\n"
     ]
    }
   ],
   "source": [
    "print(f\"Hello {name}, I like the color {color}.\")"
   ]
  },
  {
   "cell_type": "code",
   "execution_count": null,
   "metadata": {},
   "outputs": [],
   "source": [
    "#lesson 1 example program\n",
    "\n",
    "name = input(\"Please type your name: \")\n",
    "\n",
    "if name.lower() == \"robert\":\n",
    "    print(\"Hi Robert\")\n",
    "elif name == \"Maria\":\n",
    "    last_name = input(\"What is your last name?\")\n",
    "\n",
    "    if last_name == \"Smith\":\n",
    "        print(f\"Hello {name.upper()} {last_name.upper()}\")\n",
    "    else:\n",
    "        print(\"you're not maria smith\")\n",
    "else:\n",
    "    print(\"You're not Robert!\")\n"
   ]
  },
  {
   "cell_type": "code",
   "execution_count": 19,
   "metadata": {},
   "outputs": [
    {
     "name": "stdout",
     "output_type": "stream",
     "text": [
      "['Split', ' the ', 'tring at the ', 'pecified ', 'eparator, and return', ' a li', 't']\n"
     ]
    }
   ],
   "source": [
    "words = \"Splits the string at the specified separator, and returns a list\".split(\"s\")\n",
    "print(words)"
   ]
  }
 ],
 "metadata": {
  "interpreter": {
   "hash": "358d97b40f00abef9e69e7adb629ba300dffa0932c9ee852da51eec5e4ee4696"
  },
  "kernelspec": {
   "display_name": "Python 3",
   "language": "python",
   "name": "python3"
  },
  "language_info": {
   "codemirror_mode": {
    "name": "ipython",
    "version": 3
   },
   "file_extension": ".py",
   "mimetype": "text/x-python",
   "name": "python",
   "nbconvert_exporter": "python",
   "pygments_lexer": "ipython3",
   "version": "3.8.8"
  }
 },
 "nbformat": 4,
 "nbformat_minor": 2
}
