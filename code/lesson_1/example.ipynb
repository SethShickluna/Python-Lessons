{
 "cells": [
  {
   "cell_type": "markdown",
   "source": [
    "# This is a Jupyter Notebook!\n",
    "## We can use 'markdown' to describe what we are doing\n",
    "- Text can be altered using all kinds of special characters\n",
    "- We can create new cells which either contain text or code \n",
    "- All code we write here is saved in real time, meaning that we can re-use it in any cell\n",
    "- All variables and imports work globally between cells\n",
    "\n",
    "# Let's give it a try here\n"
   ],
   "metadata": {}
  },
  {
   "cell_type": "code",
   "execution_count": 6,
   "source": [
    "import os #os is a module built into python - it is used to interact with the operating system (windows or macos) running python \r\n",
    "print(\"Hello\", os.getlogin()) # getlogin() is a method which os gives us - it returns the current computer user's name\r\n",
    "\r\n",
    "#finally, lets define a variable here \r\n",
    "color = \"blue\""
   ],
   "outputs": [
    {
     "output_type": "stream",
     "name": "stdout",
     "text": [
      "Hello seths\n"
     ]
    }
   ],
   "metadata": {}
  },
  {
   "cell_type": "markdown",
   "source": [
    "# Now lets use that variable in a different cell \n",
    "### We can also see all the variables, functions, and other stuff currently being stored by the notebook"
   ],
   "metadata": {}
  },
  {
   "cell_type": "code",
   "execution_count": 9,
   "source": [
    "print(f\"My favorite color is {color}\")\r\n",
    "\r\n",
    "login = os.getlogin()\r\n",
    "\r\n",
    "print(f\"Your login is {login}\")\r\n"
   ],
   "outputs": [
    {
     "output_type": "stream",
     "name": "stdout",
     "text": [
      "My favorite color is blue\n",
      "Your login is seths\n"
     ]
    }
   ],
   "metadata": {}
  },
  {
   "cell_type": "markdown",
   "source": [
    "# Great! Now how can you use this? \n",
    "## We need to download a thing or two \n",
    "\n",
    "### There are a couple ways to do this: \n",
    "Unfortunately, the PyCharm community version doesn't support notebooks\n",
    "- We can use Visual Studio Code with a couple plugins (which is what I am doing now)\n",
    "    - Install Visual Studio Code and get the Python and Jupyter exensions\n",
    "    - In the Python terminal install PiP (Python Package Manager) and jupyter\n",
    "- We can also use a Version of Python called Anaconda which will allow us to launch notebooks \n",
    "    - Install Anaconda\n",
    "    - Type 'jupyter notebook' into the anaconda prompt\n",
    "    - This is probably the easiest way to run the code you'll get from these lessons\n",
    "\n",
    "## I will post instructions for both of these methods on the Google Classroom"
   ],
   "metadata": {}
  },
  {
   "cell_type": "code",
   "execution_count": null,
   "source": [
    "#This is the code from lesson one of the python course\r\n",
    "#print(\"string\", \"more text\", \"hello\", sep=\"\\n\")\r\n",
    "#print(\"Hello\", name, sep=\"\")\r\n",
    "\r\n",
    "name = input(\"What is your name? \")\r\n",
    "\r\n",
    "if name == \"Seth\":\r\n",
    "    print(\"Your name is seth!\")\r\n",
    "elif name == \"Hannah\":\r\n",
    "    print(\"That is a nice name!\")\r\n",
    "elif name == \"Karen\":\r\n",
    "    last_name = input(\"What is your last name? \")\r\n",
    "    print(name, last_name)\r\n",
    "else:\r\n",
    "    print(\"I've never heard your name.\")\r\n",
    "\r\n",
    "print(\"Hello,\", name)\r\n"
   ],
   "outputs": [],
   "metadata": {}
  },
  {
   "cell_type": "markdown",
   "source": [
    "# F-Strings\n",
    "## f strings use {} to represent variables inside a string \n",
    "\n",
    "f\"Hello {name}\""
   ],
   "metadata": {}
  },
  {
   "cell_type": "code",
   "execution_count": 11,
   "source": [
    "print(f\"Hello {name}, I like the color {color}.\")"
   ],
   "outputs": [
    {
     "output_type": "stream",
     "name": "stdout",
     "text": [
      "Hello Seth, I like the color blue.\n"
     ]
    }
   ],
   "metadata": {}
  },
  {
   "cell_type": "code",
   "execution_count": null,
   "source": [
    "#lesson 1 example program\r\n",
    "\r\n",
    "name = input(\"Please type your name: \")\r\n",
    "\r\n",
    "if name.lower() == \"robert\":\r\n",
    "    print(\"Hi Robert\")\r\n",
    "elif name == \"Maria\":\r\n",
    "    last_name = input(\"What is your last name?\")\r\n",
    "\r\n",
    "    if last_name == \"Smith\":\r\n",
    "        print(f\"Hello {name.upper()} {last_name.upper()}\")\r\n",
    "    else:\r\n",
    "        print(\"you're not maria smith\")\r\n",
    "else:\r\n",
    "    print(\"You're not Robert!\")\r\n",
    "\r\n",
    "\r\n",
    "\r\n",
    "\r\n"
   ],
   "outputs": [],
   "metadata": {}
  }
 ],
 "metadata": {
  "interpreter": {
   "hash": "358d97b40f00abef9e69e7adb629ba300dffa0932c9ee852da51eec5e4ee4696"
  },
  "kernelspec": {
   "display_name": "Python 3",
   "language": "python",
   "name": "python3"
  },
  "language_info": {
   "codemirror_mode": {
    "name": "ipython",
    "version": 3
   },
   "file_extension": ".py",
   "mimetype": "text/x-python",
   "name": "python",
   "nbconvert_exporter": "python",
   "pygments_lexer": "ipython3",
   "version": "3.8.8"
  }
 },
 "nbformat": 4,
 "nbformat_minor": 2
}