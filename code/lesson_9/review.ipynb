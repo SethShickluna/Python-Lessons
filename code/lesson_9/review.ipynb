{
 "cells": [
  {
   "cell_type": "markdown",
   "metadata": {},
   "source": [
    "# Review before we can take a look at some new stuff "
   ]
  },
  {
   "cell_type": "code",
   "execution_count": 8,
   "metadata": {},
   "outputs": [
    {
     "name": "stdout",
     "output_type": "stream",
     "text": [
      "0 1 2 3 4 \n",
      "0 1 2 3 4 5 \n",
      "0 1 2 3 4 \n",
      "0 1 2 \n",
      "0 1 2 3 \n",
      "0 1 2 \n",
      "--------------------------------------------------\n",
      "0 1 2 3 4 \n",
      "0 1 2 3 4 5 \n",
      "0 1 2 3 4 \n",
      "0 1 2 \n",
      "0 1 2 3 \n",
      "0 1 2 \n"
     ]
    }
   ],
   "source": [
    "my_list = [\"red\", \"blue\", \"green\", \"yellow\", \"orange\"]\n",
    "# Iterate over a list \n",
    "for value in my_list:\n",
    "    # do something with the value\n",
    "    #print(value)\n",
    "    pass\n",
    "    \n",
    "# use a for loop to get the index of the list: hint use the range() function for this\n",
    "for i in range(len(my_list)): # len(list) returns the length of the list\n",
    "    pass\n",
    "    #print(my_list[i])\n",
    "\n",
    "import random\n",
    "\n",
    "# Iterater over 2 lists (nested)\n",
    "my_2d_array = [[x for x in range(random.randrange(3, 7))] for _ in range(6)]\n",
    "\n",
    "# from last week: iterate over 2d array (nested for loops)\n",
    "for i in range(len(my_2d_array)):\n",
    "    for j in range(len(my_2d_array[i])): \n",
    "        print(my_2d_array[i][j], end=\" \")\n",
    "        \n",
    "    print()\n",
    "    \n",
    "print(\"-\"*50)\n",
    "\n",
    "# we can also do it in \"python fashion\"\n",
    "for lst in my_2d_array: \n",
    "    for val in lst: \n",
    "        print(val, end=\" \")\n",
    "        \n",
    "    print()"
   ]
  },
  {
   "cell_type": "markdown",
   "metadata": {},
   "source": [
    "# Function Review\n"
   ]
  },
  {
   "cell_type": "code",
   "execution_count": 23,
   "metadata": {},
   "outputs": [],
   "source": [
    "def do_something(a): \n",
    "    return random.sample(a, 2) # randomly return a number that was passed in \n",
    "\n",
    "def do_something_else(): \n",
    "    result = [x for x in range(random.randrange(5, 10))]\n",
    "    return result"
   ]
  },
  {
   "cell_type": "code",
   "execution_count": 24,
   "metadata": {},
   "outputs": [
    {
     "name": "stdout",
     "output_type": "stream",
     "text": [
      "[0, 1, 2, 3, 4]\n",
      "[0, 4]\n"
     ]
    }
   ],
   "source": [
    "# function calls \n",
    "do_something([1, 2, 3, 4, 5, 6, 7, 8, 9]) # give the function some numbers \n",
    "\n",
    "# nested function calls \n",
    "print(do_something(do_something_else()))\n"
   ]
  },
  {
   "cell_type": "markdown",
   "metadata": {},
   "source": [
    "# Tuple Review"
   ]
  },
  {
   "cell_type": "code",
   "execution_count": 35,
   "metadata": {},
   "outputs": [
    {
     "name": "stdout",
     "output_type": "stream",
     "text": [
      "('apples', 'peaches', 'bananas')\n",
      "['apples', 'peaches', 'bananas']\n",
      "apples :)\n",
      "peaches :)\n",
      "bananas :)\n"
     ]
    }
   ],
   "source": [
    "my_tuple = (\"apples\", \"peaches\", \"bananas\")\n",
    "# Packing \n",
    "print(my_tuple)\n",
    "\n",
    "# Unpacking\n",
    "apples, peaches,bananas = my_tuple\n",
    "#print(apples)\n",
    "#print(peaches)\n",
    "\n",
    "#function example \n",
    "def max_min(lst): \n",
    "    return max(lst), min(lst)\n",
    "    \n",
    "#print(max_min(do_something_else()))\n",
    "#max_, min_ = max_min(do_something_else())\n",
    "\n",
    "new_list = list(my_tuple)\n",
    "print(new_list)\n",
    "\n",
    "# Iterating\n",
    "for val in my_tuple:\n",
    "    print(val + \" :)\")\n",
    "\n",
    "\n"
   ]
  },
  {
   "cell_type": "markdown",
   "metadata": {},
   "source": [
    "# Colors!"
   ]
  },
  {
   "cell_type": "code",
   "execution_count": null,
   "metadata": {},
   "outputs": [],
   "source": [
    "# RGB values -> red green blue\n",
    "\n",
    "# how they work\n",
    "\n",
    "# pixels "
   ]
  }
 ],
 "metadata": {
  "interpreter": {
   "hash": "7f2315f694e152c29e344141d749526cdfb5be5cc5e5949ea65827205c8677e7"
  },
  "kernelspec": {
   "display_name": "Python 3.8.8 64-bit ('base': conda)",
   "language": "python",
   "name": "python3"
  },
  "language_info": {
   "codemirror_mode": {
    "name": "ipython",
    "version": 3
   },
   "file_extension": ".py",
   "mimetype": "text/x-python",
   "name": "python",
   "nbconvert_exporter": "python",
   "pygments_lexer": "ipython3",
   "version": "3.8.8"
  },
  "orig_nbformat": 4
 },
 "nbformat": 4,
 "nbformat_minor": 2
}
