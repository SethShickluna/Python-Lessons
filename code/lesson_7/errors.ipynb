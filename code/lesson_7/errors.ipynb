{
 "cells": [
  {
   "cell_type": "markdown",
   "metadata": {},
   "source": [
    "# Errors! \n",
    "\n",
    "## We've all seen errors before!"
   ]
  },
  {
   "cell_type": "code",
   "execution_count": 3,
   "metadata": {},
   "outputs": [
    {
     "ename": "TypeError",
     "evalue": "can only concatenate str (not \"int\") to str",
     "output_type": "error",
     "traceback": [
      "\u001b[1;31m---------------------------------------------------------------------------\u001b[0m",
      "\u001b[1;31mTypeError\u001b[0m                                 Traceback (most recent call last)",
      "\u001b[1;32m~\\AppData\\Local\\Temp/ipykernel_3232/603414915.py\u001b[0m in \u001b[0;36m<module>\u001b[1;34m\u001b[0m\n\u001b[0;32m     10\u001b[0m \u001b[1;31m#invalid type error\u001b[0m\u001b[1;33m\u001b[0m\u001b[1;33m\u001b[0m\u001b[0m\n\u001b[0;32m     11\u001b[0m \u001b[0mname\u001b[0m \u001b[1;33m=\u001b[0m \u001b[1;34m\"Python\"\u001b[0m\u001b[1;33m\u001b[0m\u001b[1;33m\u001b[0m\u001b[0m\n\u001b[1;32m---> 12\u001b[1;33m \u001b[0mprint\u001b[0m\u001b[1;33m(\u001b[0m\u001b[0mname\u001b[0m \u001b[1;33m+\u001b[0m \u001b[1;36m10\u001b[0m\u001b[1;33m)\u001b[0m\u001b[1;33m\u001b[0m\u001b[1;33m\u001b[0m\u001b[0m\n\u001b[0m",
      "\u001b[1;31mTypeError\u001b[0m: can only concatenate str (not \"int\") to str"
     ]
    }
   ],
   "source": [
    "# lets look at sum errors \n",
    "\n",
    "# divide errors \n",
    "print (10 / 0) # no good! \n",
    "\n",
    "# index errors \n",
    "lst = [1, 2, 3]\n",
    "print(lst[3])\n",
    "\n",
    "#invalid type error\n",
    "name = \"Python\"\n",
    "print(name + 10)"
   ]
  },
  {
   "cell_type": "code",
   "execution_count": 6,
   "metadata": {},
   "outputs": [
    {
     "name": "stdout",
     "output_type": "stream",
     "text": [
      "Please don't divide by 0!\n",
      "1\n"
     ]
    }
   ],
   "source": [
    "# lets handle some errors \n",
    "\n",
    "try: \n",
    "    print(10 / 0)\n",
    "except ZeroDivisionError: \n",
    "    print(\"Please don't divide by 0!\")\n",
    "    \n",
    "try: \n",
    "    print(10 / 7)\n",
    "except: # generally considered to be bad \n",
    "    print(\"Please don't divide by 0!\")"
   ]
  },
  {
   "cell_type": "code",
   "execution_count": 8,
   "metadata": {},
   "outputs": [
    {
     "name": "stdout",
     "output_type": "stream",
     "text": [
      "You can't do this!!!\n",
      "Error block handled!\n"
     ]
    }
   ],
   "source": [
    "# finally \n",
    "try: \n",
    "    print(\"Seth\" + 10) #this is an error!\n",
    "except TypeError: \n",
    "    print(\"You can't do this!!!\")\n",
    "finally: \n",
    "    print(\"Error block handled!\")"
   ]
  },
  {
   "cell_type": "code",
   "execution_count": 13,
   "metadata": {},
   "outputs": [
    {
     "name": "stdout",
     "output_type": "stream",
     "text": [
      "2.0\n"
     ]
    }
   ],
   "source": [
    "# we can except multiple errors \n",
    "x = 10 \n",
    "try: \n",
    "    print(x / x)\n",
    "except ZeroDivisionError: \n",
    "    print(\"Please don't divide by 0\")\n",
    "except NameError: \n",
    "    print(\"A variable is not defined\")\n",
    "except: \n",
    "    print(\"Something else went wrong.\")"
   ]
  },
  {
   "cell_type": "code",
   "execution_count": 15,
   "metadata": {},
   "outputs": [
    {
     "name": "stdout",
     "output_type": "stream",
     "text": [
      "5.0\n",
      "Something bad happened\n",
      "5.0\n"
     ]
    }
   ],
   "source": [
    "try: # x is = to 10 (it is defined)\n",
    "    x /= 2\n",
    "    print(x)\n",
    "    try: \n",
    "        x /= 0 \n",
    "        print(x)\n",
    "    except: \n",
    "        print(\"Something bad happened\")\n",
    "except NameError: \n",
    "    print(\"A variable is not defined\")\n",
    "finally: \n",
    "    print(x) # x would be 5 when this is printed "
   ]
  },
  {
   "cell_type": "markdown",
   "metadata": {},
   "source": [
    "# Making our own errors\n"
   ]
  },
  {
   "cell_type": "code",
   "execution_count": 16,
   "metadata": {},
   "outputs": [
    {
     "ename": "TypeError",
     "evalue": "Only ints are allowed in this list",
     "output_type": "error",
     "traceback": [
      "\u001b[1;31m---------------------------------------------------------------------------\u001b[0m",
      "\u001b[1;31mTypeError\u001b[0m                                 Traceback (most recent call last)",
      "\u001b[1;32m~\\AppData\\Local\\Temp/ipykernel_3232/3109327202.py\u001b[0m in \u001b[0;36m<module>\u001b[1;34m\u001b[0m\n\u001b[0;32m     19\u001b[0m \u001b[0madd_to_list\u001b[0m\u001b[1;33m(\u001b[0m\u001b[0mmy_list\u001b[0m\u001b[1;33m,\u001b[0m \u001b[1;36m4\u001b[0m\u001b[1;33m)\u001b[0m\u001b[1;33m\u001b[0m\u001b[1;33m\u001b[0m\u001b[0m\n\u001b[0;32m     20\u001b[0m \u001b[0madd_to_list\u001b[0m\u001b[1;33m(\u001b[0m\u001b[0mmy_list\u001b[0m\u001b[1;33m,\u001b[0m \u001b[1;33m-\u001b[0m\u001b[1;36m3\u001b[0m\u001b[1;33m)\u001b[0m\u001b[1;33m\u001b[0m\u001b[1;33m\u001b[0m\u001b[0m\n\u001b[1;32m---> 21\u001b[1;33m \u001b[0madd_to_list\u001b[0m\u001b[1;33m(\u001b[0m\u001b[0mmy_list\u001b[0m\u001b[1;33m,\u001b[0m \u001b[1;34m\"This is an error\"\u001b[0m\u001b[1;33m)\u001b[0m\u001b[1;33m\u001b[0m\u001b[1;33m\u001b[0m\u001b[0m\n\u001b[0m",
      "\u001b[1;32m~\\AppData\\Local\\Temp/ipykernel_3232/3109327202.py\u001b[0m in \u001b[0;36madd_to_list\u001b[1;34m(lst, value)\u001b[0m\n\u001b[0;32m      8\u001b[0m \u001b[1;33m\u001b[0m\u001b[0m\n\u001b[0;32m      9\u001b[0m     \u001b[1;32mif\u001b[0m \u001b[1;32mnot\u001b[0m \u001b[0mtype\u001b[0m\u001b[1;33m(\u001b[0m\u001b[0mvalue\u001b[0m\u001b[1;33m)\u001b[0m \u001b[1;32mis\u001b[0m \u001b[0mint\u001b[0m\u001b[1;33m:\u001b[0m\u001b[1;33m\u001b[0m\u001b[1;33m\u001b[0m\u001b[0m\n\u001b[1;32m---> 10\u001b[1;33m         \u001b[1;32mraise\u001b[0m \u001b[0mTypeError\u001b[0m\u001b[1;33m(\u001b[0m\u001b[1;34m\"Only ints are allowed in this list\"\u001b[0m\u001b[1;33m)\u001b[0m\u001b[1;33m\u001b[0m\u001b[1;33m\u001b[0m\u001b[0m\n\u001b[0m\u001b[0;32m     11\u001b[0m     \u001b[1;32melse\u001b[0m\u001b[1;33m:\u001b[0m\u001b[1;33m\u001b[0m\u001b[1;33m\u001b[0m\u001b[0m\n\u001b[0;32m     12\u001b[0m         \u001b[0mlst\u001b[0m\u001b[1;33m.\u001b[0m\u001b[0mappend\u001b[0m\u001b[1;33m(\u001b[0m\u001b[0mvalue\u001b[0m\u001b[1;33m)\u001b[0m\u001b[1;33m\u001b[0m\u001b[1;33m\u001b[0m\u001b[0m\n",
      "\u001b[1;31mTypeError\u001b[0m: Only ints are allowed in this list"
     ]
    }
   ],
   "source": [
    "# raise keyword --> raise Exception(\"Message\")\n",
    "\n",
    "# we have a list which we want to add ONLY ints to \n",
    "# if something which isnt an int gets added, we want to throw an error \n",
    "\n",
    "def add_to_list(lst, value): \n",
    "    #if the type of value is not an int, throw an error \n",
    "    \n",
    "    if not type(value) is int: \n",
    "        raise TypeError(\"Only ints are allowed in this list\")\n",
    "    else: \n",
    "        lst.append(value)\n",
    "    \n",
    "    return lst\n",
    "    \n",
    "my_list = []\n",
    "\n",
    "add_to_list(my_list, 1)\n",
    "add_to_list(my_list, 4)\n",
    "add_to_list(my_list, -3)\n",
    "add_to_list(my_list, \"This is an error\")\n"
   ]
  },
  {
   "cell_type": "code",
   "execution_count": 21,
   "metadata": {},
   "outputs": [
    {
     "name": "stdout",
     "output_type": "stream",
     "text": [
      "Done!\n"
     ]
    }
   ],
   "source": [
    "# imagine we have a function that can make a list into a tuple, it can only add ints to the tuple\n",
    "\n",
    "# tuples (1, 2,)\n",
    "# list [1,2,3]\n",
    "\n",
    "def convert_list_to_tuple(lst): \n",
    "    result = [] \n",
    "    \n",
    "    for value in lst:\n",
    "        \n",
    "        if type(value) == int:\n",
    "            result.append(value)\n",
    "        else: \n",
    "            raise TypeError(f\"Expected int, got {type(value)}\")\n",
    "            \n",
    "    return tuple(result)\n",
    "            \n",
    "        \n",
    "        \n",
    "    \n",
    "my_list = [1, 2, 3, 4, 5, 6]\n",
    "my_bad_lst = [\"1\", \"2\", \"3\", \"4\", \"5\", \"6\"]\n",
    "\n",
    "try:\n",
    "    convert_list_to_tuple(my_list)\n",
    "except TypeError: \n",
    "    print(\"Invalid list given.\")\n",
    "\n",
    "print(\"Done!\")\n"
   ]
  },
  {
   "cell_type": "code",
   "execution_count": 26,
   "metadata": {},
   "outputs": [
    {
     "data": {
      "text/plain": [
       "28"
      ]
     },
     "execution_count": 26,
     "metadata": {},
     "output_type": "execute_result"
    }
   ],
   "source": [
    "# lets write a function that wants to take the sum of a list but throws errors if the list contains invalid types \n",
    "\n",
    "def lst_sum(lst): \n",
    "    result = 0 \n",
    "\n",
    "    for number in lst:\n",
    "        \n",
    "        \n",
    "        \n",
    "        result += number \n",
    "\n",
    "    return result\n",
    "\n",
    "my_list = [1, 2, 3, 4, 5, 6, 7]\n",
    "my_bad_lst = [1, \"2\", 3, \"4\", 5, 6]\n",
    "\n",
    "lst_sum(my_list)\n",
    "\n",
    "\n"
   ]
  }
 ],
 "metadata": {
  "interpreter": {
   "hash": "358d97b40f00abef9e69e7adb629ba300dffa0932c9ee852da51eec5e4ee4696"
  },
  "kernelspec": {
   "display_name": "Python 3.9.8 64-bit (windows store)",
   "language": "python",
   "name": "python3"
  },
  "language_info": {
   "codemirror_mode": {
    "name": "ipython",
    "version": 3
   },
   "file_extension": ".py",
   "mimetype": "text/x-python",
   "name": "python",
   "nbconvert_exporter": "python",
   "pygments_lexer": "ipython3",
   "version": "3.9.9"
  },
  "orig_nbformat": 4
 },
 "nbformat": 4,
 "nbformat_minor": 2
}
