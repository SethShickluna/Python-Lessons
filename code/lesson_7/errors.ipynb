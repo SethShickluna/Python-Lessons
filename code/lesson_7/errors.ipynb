{
 "cells": [
  {
   "cell_type": "markdown",
   "metadata": {},
   "source": [
    "# Errors! \n",
    "\n",
    "## We've all seen errors before!"
   ]
  },
  {
   "cell_type": "code",
   "execution_count": null,
   "metadata": {},
   "outputs": [],
   "source": [
    "# lets look at sum errors \n",
    "\n",
    "# divide errors \n",
    "print (10 / 0) # no good! \n",
    "\n",
    "# index errors \n",
    "lst = [1, 2, 3]\n",
    "print(lst[3])\n",
    "\n",
    "#invalid type error\n",
    "name = \"Python\"\n",
    "print(name + 10)"
   ]
  },
  {
   "cell_type": "code",
   "execution_count": null,
   "metadata": {},
   "outputs": [],
   "source": [
    "# lets handle some errors \n",
    "\n",
    "try: \n",
    "    print(10 / 0)\n",
    "except ZeroDivisionError: \n",
    "    print(\"Please don't divide by 0!\")\n",
    "    \n",
    "try: \n",
    "    print(10 / 0)\n",
    "except: \n",
    "    print(\"Please don't divide by 0!\")"
   ]
  },
  {
   "cell_type": "code",
   "execution_count": null,
   "metadata": {},
   "outputs": [],
   "source": [
    "# finally \n",
    "try: \n",
    "    print(\"Seth\" + 10)\n",
    "except: \n",
    "    print(\"You can't do this!!!\")\n",
    "finally: \n",
    "    print(\"Seth\" + str(10))"
   ]
  },
  {
   "cell_type": "code",
   "execution_count": null,
   "metadata": {},
   "outputs": [],
   "source": [
    "# we can except multiple errors \n",
    "x = 10 \n",
    "try: \n",
    "    print(x / 0)\n",
    "except ZeroDivisionError: \n",
    "    print(\"Please don't divide by 0!\")\n",
    "except NameError: \n",
    "    print(\"A variable is not defined\")\n",
    "except: \n",
    "    print(\"Something else went wrong.\")"
   ]
  },
  {
   "cell_type": "code",
   "execution_count": null,
   "metadata": {},
   "outputs": [],
   "source": [
    "try: # x is = to 10 (it is defined)\n",
    "    x /= 10\n",
    "    print(x)\n",
    "    try: \n",
    "        x /= 0 \n",
    "        print(x)\n",
    "    except: \n",
    "        print(\"Something bad happened\")\n",
    "except NameError: \n",
    "    print(\"A variable is not defined\")\n",
    "finally: \n",
    "    print(x) # x would be 11 when this is printed "
   ]
  },
  {
   "cell_type": "markdown",
   "metadata": {},
   "source": [
    "# Making our own errors\n"
   ]
  },
  {
   "cell_type": "code",
   "execution_count": null,
   "metadata": {},
   "outputs": [],
   "source": [
    "# raise keyword --> raise Exception(\"Message\")\n",
    "\n",
    "# we have a list which we want to add ONLY ints to \n",
    "# if something which isnt an int gets added, we want to throw an error \n",
    "\n",
    "def add_to_list(lst, value): \n",
    "    #if the type of value is not an int, throw an error \n",
    "    \n",
    "    if not type(value) is int: \n",
    "        raise TypeError(\"Only ints are allowed in this list\")\n",
    "    else: \n",
    "        lst.append(value)\n",
    "    \n",
    "    return lst\n",
    "    \n",
    "my_list = []\n",
    "\n",
    "add_to_list(my_list, 1)\n",
    "add_to_list(my_list, 4)\n",
    "add_to_list(my_list, -3)\n",
    "add_to_list(my_list, \"This is an error\")\n"
   ]
  },
  {
   "cell_type": "code",
   "execution_count": 25,
   "metadata": {},
   "outputs": [
    {
     "ename": "Exception",
     "evalue": "No negative numbers allowed!",
     "output_type": "error",
     "traceback": [
      "\u001b[1;31m---------------------------------------------------------------------------\u001b[0m",
      "\u001b[1;31mException\u001b[0m                                 Traceback (most recent call last)",
      "\u001b[1;32m~\\AppData\\Local\\Temp/ipykernel_17972/1418078226.py\u001b[0m in \u001b[0;36m<module>\u001b[1;34m\u001b[0m\n\u001b[0;32m      2\u001b[0m \u001b[1;33m\u001b[0m\u001b[0m\n\u001b[0;32m      3\u001b[0m \u001b[1;32mif\u001b[0m \u001b[0mint\u001b[0m\u001b[1;33m(\u001b[0m\u001b[0mnum\u001b[0m\u001b[1;33m)\u001b[0m \u001b[1;33m<\u001b[0m \u001b[1;36m0\u001b[0m\u001b[1;33m:\u001b[0m\u001b[1;33m\u001b[0m\u001b[1;33m\u001b[0m\u001b[0m\n\u001b[1;32m----> 4\u001b[1;33m     \u001b[1;32mraise\u001b[0m \u001b[0mException\u001b[0m\u001b[1;33m(\u001b[0m\u001b[1;34m\"No negative numbers allowed!\"\u001b[0m\u001b[1;33m)\u001b[0m\u001b[1;33m\u001b[0m\u001b[1;33m\u001b[0m\u001b[0m\n\u001b[0m\u001b[0;32m      5\u001b[0m \u001b[1;33m\u001b[0m\u001b[0m\n\u001b[0;32m      6\u001b[0m \u001b[0mprint\u001b[0m\u001b[1;33m(\u001b[0m\u001b[0mnum\u001b[0m\u001b[1;33m)\u001b[0m\u001b[1;33m\u001b[0m\u001b[1;33m\u001b[0m\u001b[0m\n",
      "\u001b[1;31mException\u001b[0m: No negative numbers allowed!"
     ]
    }
   ],
   "source": [
    "num = input(\"Enter a number: \")\n",
    "\n",
    "if int(num) < 0: \n",
    "    raise Exception(\"No negative numbers allowed!\") \n",
    "\n",
    "print(num)\n",
    "\n"
   ]
  },
  {
   "cell_type": "code",
   "execution_count": 26,
   "metadata": {},
   "outputs": [
    {
     "name": "stdout",
     "output_type": "stream",
     "text": [
      "98\n",
      "197\n"
     ]
    },
    {
     "ename": "Exception",
     "evalue": "Ahhhhh! I'm scared of 3 digit numbers. ",
     "output_type": "error",
     "traceback": [
      "\u001b[1;31m---------------------------------------------------------------------------\u001b[0m",
      "\u001b[1;31mException\u001b[0m                                 Traceback (most recent call last)",
      "\u001b[1;32m~\\AppData\\Local\\Temp/ipykernel_17972/1288597957.py\u001b[0m in \u001b[0;36m<module>\u001b[1;34m\u001b[0m\n\u001b[0;32m     13\u001b[0m     \u001b[1;32mif\u001b[0m \u001b[0mnumber\u001b[0m \u001b[1;33m>=\u001b[0m \u001b[1;36m100\u001b[0m\u001b[1;33m:\u001b[0m\u001b[1;33m\u001b[0m\u001b[1;33m\u001b[0m\u001b[0m\n\u001b[0;32m     14\u001b[0m         \u001b[0mcounting\u001b[0m \u001b[1;33m=\u001b[0m \u001b[1;32mFalse\u001b[0m\u001b[1;33m\u001b[0m\u001b[1;33m\u001b[0m\u001b[0m\n\u001b[1;32m---> 15\u001b[1;33m         \u001b[1;32mraise\u001b[0m \u001b[0mException\u001b[0m\u001b[1;33m(\u001b[0m\u001b[1;34m\"Ahhhhh! I'm scared of 3 digit numbers. \"\u001b[0m\u001b[1;33m)\u001b[0m\u001b[1;33m\u001b[0m\u001b[1;33m\u001b[0m\u001b[0m\n\u001b[0m\u001b[0;32m     16\u001b[0m \u001b[1;33m\u001b[0m\u001b[0m\n\u001b[0;32m     17\u001b[0m \u001b[1;33m\u001b[0m\u001b[0m\n",
      "\u001b[1;31mException\u001b[0m: Ahhhhh! I'm scared of 3 digit numbers. "
     ]
    }
   ],
   "source": [
    "# you hate big numbers!!! \n",
    "\n",
    "# write a program which adds user input to a variable (while loop)\n",
    "# raise an Exception if this variable is ever greater than or equal to 100 \n",
    "\n",
    "number = 0 \n",
    "counting = True\n",
    "\n",
    "while counting: \n",
    "    number += int(input(\"Enter a number: \")) \n",
    "    print(number)\n",
    "    \n",
    "    if number >= 100: \n",
    "        counting = False\n",
    "        raise Exception(\"Ahhhhh! I'm scared of 3 digit numbers. \")\n",
    "\n",
    "    \n"
   ]
  }
 ],
 "metadata": {
  "interpreter": {
   "hash": "358d97b40f00abef9e69e7adb629ba300dffa0932c9ee852da51eec5e4ee4696"
  },
  "kernelspec": {
   "display_name": "Python 3.9.8 64-bit (windows store)",
   "language": "python",
   "name": "python3"
  },
  "language_info": {
   "codemirror_mode": {
    "name": "ipython",
    "version": 3
   },
   "file_extension": ".py",
   "mimetype": "text/x-python",
   "name": "python",
   "nbconvert_exporter": "python",
   "pygments_lexer": "ipython3",
   "version": "3.9.8"
  },
  "orig_nbformat": 4
 },
 "nbformat": 4,
 "nbformat_minor": 2
}
