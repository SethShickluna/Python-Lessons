{
 "cells": [
  {
   "cell_type": "markdown",
   "metadata": {},
   "source": [
    "# Lets take a look at everything we can do with functions\n"
   ]
  },
  {
   "cell_type": "code",
   "execution_count": 4,
   "metadata": {},
   "outputs": [
    {
     "name": "stdout",
     "output_type": "stream",
     "text": [
      "11.108889000000001\n"
     ]
    }
   ],
   "source": [
    "# we can specify a return type if we want to be \"strict\"\n",
    "def square(num) -> int: \n",
    "    result = num **2\n",
    "    \n",
    "    return result\n",
    "\n",
    "#result = square(3)\n",
    "a = 10 # int \n",
    "b = 3.333 # float \n",
    "c = \"hello\" # string \n",
    "\n",
    "result = square(b) # will this line of code work? \n",
    "\n",
    "print(result)\n"
   ]
  },
  {
   "cell_type": "markdown",
   "metadata": {},
   "source": [
    "# Keyword arguments and default values\n"
   ]
  },
  {
   "cell_type": "code",
   "execution_count": 5,
   "metadata": {},
   "outputs": [
    {
     "name": "stdout",
     "output_type": "stream",
     "text": [
      "8\n",
      "2\n",
      "4\n"
     ]
    }
   ],
   "source": [
    "def power(num, power=2): \n",
    "    return num ** power \n",
    " \n",
    "# we can specify the keyword or just put the number, but its nice for readability \n",
    "print(power(2, power=3)) # 2^3\n",
    "print(power(2, 1)) # 2^1\n",
    "\n",
    "# error? \n",
    "print(power(2)) # what does this do? "
   ]
  },
  {
   "cell_type": "markdown",
   "metadata": {},
   "source": [
    "# Let's look at errors "
   ]
  },
  {
   "cell_type": "code",
   "execution_count": 8,
   "metadata": {},
   "outputs": [
    {
     "data": {
      "text/plain": [
       "16"
      ]
     },
     "execution_count": 8,
     "metadata": {},
     "output_type": "execute_result"
    }
   ],
   "source": [
    "#square(\"44\") # what is wrong with this \n",
    "\n",
    "# likewise, what is wrong with this \n",
    "square(4)"
   ]
  },
  {
   "cell_type": "markdown",
   "metadata": {},
   "source": [
    "# More arguments \n",
    "## Unspecified amount of arguments \n",
    "- use a * to pass some amount of values into a function \n",
    "- given as a list \n",
    "- we can index these \n",
    "\n",
    "## Unspecified amount of keyword arguments \n",
    "- Same as the the previous examples \n",
    "- Uses ** (two asterisks) \n",
    "- Passes the arguments as a dictionary "
   ]
  },
  {
   "cell_type": "code",
   "execution_count": 9,
   "metadata": {},
   "outputs": [
    {
     "name": "stdout",
     "output_type": "stream",
     "text": [
      "Seth, Chelsea, Hannah, Eva, Olyn, 100, 834.02, Saturday, \n",
      "Seth, Chelsea, Hannah, \n",
      "Seth, "
     ]
    }
   ],
   "source": [
    "def names(*name_list): #passes a list of parameters\n",
    "    for name in name_list: \n",
    "        print(name, end=\", \")\n",
    "\n",
    "names(\"Seth\", \"Chelsea\", \"Hannah\", \"Eva\", \"Olyn\", 100, 834.02, \"Saturday\")\n",
    "print()\n",
    "names(\"Seth\", \"Chelsea\", \"Hannah\")\n",
    "print()\n",
    "names(\"Seth\")"
   ]
  },
  {
   "cell_type": "code",
   "execution_count": 10,
   "metadata": {},
   "outputs": [
    {
     "name": "stdout",
     "output_type": "stream",
     "text": [
      "756\n",
      "50\n"
     ]
    }
   ],
   "source": [
    "def sum_(*nums): \n",
    "    result = 0 \n",
    "    for num in nums: \n",
    "        result += num \n",
    "\n",
    "    return result\n",
    "\n",
    "print(sum_(1, 2, 2, 56, 676, 19))\n",
    "print(sum_(1, 49))\n"
   ]
  },
  {
   "cell_type": "code",
   "execution_count": 11,
   "metadata": {},
   "outputs": [
    {
     "name": "stdout",
     "output_type": "stream",
     "text": [
      "Arguments:  3\n",
      "seth, Shickluna, 21, \n",
      "\n",
      "Arguments:  4\n",
      "Elon, CEO, 200B, 50, "
     ]
    }
   ],
   "source": [
    "def print_person(**kwargs): # in this case, kwargs will refer to the dictionary of values about a person \n",
    "    print(\"Arguments: \", len(kwargs))\n",
    "    for key in kwargs:  \n",
    "        print(kwargs[key], end=\", \") \n",
    "\n",
    "print_person(name=\"seth\", last_name=\"Shickluna\", age = 21)\n",
    "print('\\n')\n",
    "print_person(name=\"Elon\", job=\"CEO\", money=\"200B\", age=50)"
   ]
  },
  {
   "cell_type": "code",
   "execution_count": 12,
   "metadata": {},
   "outputs": [
    {
     "name": "stdout",
     "output_type": "stream",
     "text": [
      "{'name': 'seth', 'last_name': 'Shickluna', 'age': 21}\n",
      "{'name': 'Elon', 'job': 'CEO', 'money': '200B', 'age': 50}\n"
     ]
    }
   ],
   "source": [
    "def print_kwargs(**kwargs): \n",
    "    print(kwargs)\n",
    "\n",
    "print_kwargs(name=\"seth\", last_name=\"Shickluna\", age = 21)\n",
    "print_kwargs(name=\"Elon\", job=\"CEO\", money=\"200B\", age=50)\n"
   ]
  },
  {
   "cell_type": "code",
   "execution_count": 4,
   "metadata": {},
   "outputs": [
    {
     "name": "stdout",
     "output_type": "stream",
     "text": [
      "you have 15 minutes to play the game\n",
      "They players are: \n",
      "seth : 1\n",
      "hannah : 2\n",
      "bobby : 3\n",
      "sandwich : 10\n"
     ]
    }
   ],
   "source": [
    "def start_game(time_limit=10, **players): \n",
    "    print(f\"you have {time_limit} minutes to play the game\")\n",
    "\n",
    "    print(\"They players are: \")\n",
    "    for player in players: \n",
    "        print(player, \":\", players[player])\n",
    "\n",
    "#players will be their names and scores \n",
    "\n",
    "start_game(15, seth = 1, hannah = 2, bobby = 3, sandwich = 10)\n"
   ]
  }
 ],
 "metadata": {
  "interpreter": {
   "hash": "767d51c1340bd893661ea55ea3124f6de3c7a262a8b4abca0554b478b1e2ff90"
  },
  "kernelspec": {
   "display_name": "Python 3.8.10 64-bit",
   "name": "python3"
  },
  "language_info": {
   "codemirror_mode": {
    "name": "ipython",
    "version": 3
   },
   "file_extension": ".py",
   "mimetype": "text/x-python",
   "name": "python",
   "nbconvert_exporter": "python",
   "pygments_lexer": "ipython3",
   "version": "3.8.10"
  },
  "orig_nbformat": 4
 },
 "nbformat": 4,
 "nbformat_minor": 2
}
