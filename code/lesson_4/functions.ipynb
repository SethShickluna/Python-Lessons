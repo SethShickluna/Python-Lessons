{
 "cells": [
  {
   "cell_type": "markdown",
   "metadata": {},
   "source": [
    "# Lets take a look at everything we can do with functions\n"
   ]
  },
  {
   "cell_type": "code",
   "execution_count": null,
   "metadata": {},
   "outputs": [],
   "source": [
    "# we can specify a return type if we want to be strict\n",
    "def square(num: int) -> int: \n",
    "    return num **2\n",
    "\n",
    "result = square(2)\n",
    "\n",
    "# result = square(\"4\") # will this line of code work? \n",
    "\n",
    "print(result)\n"
   ]
  },
  {
   "cell_type": "markdown",
   "metadata": {},
   "source": [
    "# Keyword arguments and default values\n"
   ]
  },
  {
   "cell_type": "code",
   "execution_count": 3,
   "metadata": {},
   "outputs": [
    {
     "name": "stdout",
     "output_type": "stream",
     "text": [
      "8\n",
      "4\n",
      "2\n"
     ]
    }
   ],
   "source": [
    "def power(num, power=2): \n",
    "    return num ** power \n",
    " \n",
    "# we can specify the keyword or just put the number, but its nice for readability \n",
    "print(power(2, power=3)) # 2^3\n",
    "print(power(2, 1)) # 2^1\n",
    "\n",
    "print(power(2)) # what does this do? "
   ]
  },
  {
   "cell_type": "markdown",
   "metadata": {},
   "source": [
    "# Let's look at errors "
   ]
  },
  {
   "cell_type": "code",
   "execution_count": null,
   "metadata": {},
   "outputs": [],
   "source": [
    "square(\"44\") # what is wrong with this \n",
    "\n",
    "# likewise, what is wrong with this \n",
    "power()"
   ]
  },
  {
   "cell_type": "markdown",
   "metadata": {},
   "source": [
    "# More arguments \n",
    "## Unspecified amount of arguments \n",
    "- use a * to pass some amount of values into a function \n",
    "- given as a list \n",
    "- we can index these \n",
    "\n",
    "## Unspecified amount of keyword arguments \n",
    "- Same as the the previous examples \n",
    "- Uses ** (two asterisks) \n",
    "- Passes the arguments as a dictionary "
   ]
  },
  {
   "cell_type": "code",
   "execution_count": 13,
   "metadata": {},
   "outputs": [
    {
     "name": "stdout",
     "output_type": "stream",
     "text": [
      "Arguments:  3\n",
      "seth, Shickluna, 21, \n",
      "\n",
      "Arguments:  4\n",
      "Elon, CEO, 200B, 50, "
     ]
    }
   ],
   "source": [
    "def print_person(**kwargs): # in this case, kwargs will refer to the dictionary of values about a person \n",
    "    print(\"Arguments: \", len(kwargs))\n",
    "    for key in kwargs:  \n",
    "        print(kwargs[key], end=\", \") \n",
    "\n",
    "print_person(name=\"seth\", last_name=\"Shickluna\", age = 21)\n",
    "print('\\n')\n",
    "print_person(name=\"Elon\", job=\"CEO\", money=\"200B\", age=50)"
   ]
  }
 ],
 "metadata": {
  "interpreter": {
   "hash": "767d51c1340bd893661ea55ea3124f6de3c7a262a8b4abca0554b478b1e2ff90"
  },
  "kernelspec": {
   "display_name": "Python 3.8.10 64-bit",
   "name": "python3"
  },
  "language_info": {
   "codemirror_mode": {
    "name": "ipython",
    "version": 3
   },
   "file_extension": ".py",
   "mimetype": "text/x-python",
   "name": "python",
   "nbconvert_exporter": "python",
   "pygments_lexer": "ipython3",
   "version": "3.8.10"
  },
  "orig_nbformat": 4
 },
 "nbformat": 4,
 "nbformat_minor": 2
}
