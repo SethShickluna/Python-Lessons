{
 "cells": [
  {
   "cell_type": "markdown",
   "metadata": {},
   "source": [
    "# Dictionary Methods"
   ]
  },
  {
   "cell_type": "code",
   "execution_count": 5,
   "metadata": {},
   "outputs": [],
   "source": [
    "my_dict = {}\n",
    "\n",
    "# adding values\n",
    "\n",
    "my_dict['new_value'] = 10 \n",
    "my_dict.update({'name':'seth'}) # inside the update we pass a key-value pair \n"
   ]
  },
  {
   "cell_type": "code",
   "execution_count": 6,
   "metadata": {},
   "outputs": [
    {
     "name": "stdout",
     "output_type": "stream",
     "text": [
      "['new_value']\n"
     ]
    }
   ],
   "source": [
    "# remove a value \n",
    "name = my_dict.pop('name') # pop removes the value, but does not have to be stored in a variable\n",
    "\n",
    "list_from_dict = list(my_dict)\n",
    "print(list_from_dict) # turns each key into an item in a dictionary \n"
   ]
  },
  {
   "cell_type": "markdown",
   "metadata": {},
   "source": [
    "# Let's add some values and then iterate over the list"
   ]
  },
  {
   "cell_type": "code",
   "execution_count": 7,
   "metadata": {},
   "outputs": [],
   "source": [
    "my_dict.update({'name':'seth'})\n",
    "my_dict.update({'birth_year':1999})\n",
    "my_dict.update({'degree':\"Computer Science\"})"
   ]
  },
  {
   "cell_type": "markdown",
   "metadata": {},
   "source": [
    "# Iterate over keys"
   ]
  },
  {
   "cell_type": "code",
   "execution_count": 8,
   "metadata": {},
   "outputs": [
    {
     "name": "stdout",
     "output_type": "stream",
     "text": [
      "new_value\n",
      "name\n",
      "birth_year\n",
      "degree\n"
     ]
    }
   ],
   "source": [
    "for key in my_dict: \n",
    "    print(key)"
   ]
  },
  {
   "cell_type": "code",
   "execution_count": 9,
   "metadata": {},
   "outputs": [
    {
     "name": "stdout",
     "output_type": "stream",
     "text": [
      "10\n",
      "seth\n",
      "1999\n",
      "Computer Science\n"
     ]
    }
   ],
   "source": [
    "for key in my_dict: \n",
    "    print(my_dict[key])"
   ]
  },
  {
   "cell_type": "code",
   "execution_count": 13,
   "metadata": {},
   "outputs": [
    {
     "name": "stdout",
     "output_type": "stream",
     "text": [
      "new_value --> 10\n",
      "name --> seth\n",
      "birth_year --> 1999\n",
      "degree --> Computer Science\n",
      "-----------------------------------\n",
      "new_value -> 10\n",
      "name -> seth\n",
      "birth_year -> 1999\n",
      "degree -> Computer Science\n"
     ]
    }
   ],
   "source": [
    "for key in my_dict: \n",
    "    print(f\"{key} --> {my_dict[key]}\")\n",
    "\n",
    "print('-'*35)\n",
    "# we dont have to do this as there are two iterables the items() \n",
    "for key, value in my_dict.items(): \n",
    "    print(f\"{key} -> {value}\")"
   ]
  },
  {
   "cell_type": "markdown",
   "metadata": {},
   "source": [
    "# Final Example: \n",
    "## Make an empty dictionary which stores scores of players "
   ]
  },
  {
   "cell_type": "code",
   "execution_count": 16,
   "metadata": {},
   "outputs": [
    {
     "name": "stdout",
     "output_type": "stream",
     "text": [
      "{'Seth': '1000', 'Hannah': '200', 'Erlich': '0'}\n"
     ]
    }
   ],
   "source": [
    "players = {} \n",
    "\n",
    "done = False \n",
    "\n",
    "while not done: \n",
    "    input_ = input(\"Add a player: \")\n",
    "\n",
    "    if input_ != \"no\": \n",
    "        values = input_.split(\" \")\n",
    "        players.update({values[0] : values[1]})\n",
    "    else: \n",
    "        done = True \n",
    "\n",
    "print(players)"
   ]
  }
 ],
 "metadata": {
  "interpreter": {
   "hash": "767d51c1340bd893661ea55ea3124f6de3c7a262a8b4abca0554b478b1e2ff90"
  },
  "kernelspec": {
   "display_name": "Python 3.8.10 64-bit",
   "name": "python3"
  },
  "language_info": {
   "codemirror_mode": {
    "name": "ipython",
    "version": 3
   },
   "file_extension": ".py",
   "mimetype": "text/x-python",
   "name": "python",
   "nbconvert_exporter": "python",
   "pygments_lexer": "ipython3",
   "version": "3.8.10"
  },
  "orig_nbformat": 4
 },
 "nbformat": 4,
 "nbformat_minor": 2
}
