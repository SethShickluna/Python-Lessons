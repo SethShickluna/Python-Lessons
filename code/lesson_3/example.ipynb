{
 "cells": [
  {
   "cell_type": "markdown",
   "metadata": {},
   "source": [
    "# Multiplies each value in a list\n"
   ]
  },
  {
   "cell_type": "code",
   "execution_count": 1,
   "metadata": {},
   "outputs": [
    {
     "name": "stdout",
     "output_type": "stream",
     "text": [
      "[1, 2, 3, 4, 5, 6, 7, 8, 9]\n",
      "362880\n"
     ]
    }
   ],
   "source": [
    "nums = [x for x in range(1, 10)] # makes a list of values 1-9 [1, 2, 3, ..., 8, 9]\n",
    "product = 1 # counter variable to keep track of our product\n",
    "print(nums)\n",
    "\n",
    "# multiplying each item in our list together \n",
    "for num in nums: \n",
    "    product = product * num\n",
    "\n",
    "print(product)"
   ]
  },
  {
   "cell_type": "markdown",
   "metadata": {},
   "source": [
    "# Count the number of even and odd values in a list "
   ]
  },
  {
   "cell_type": "code",
   "execution_count": null,
   "metadata": {},
   "outputs": [],
   "source": [
    "even = 0 \n",
    "odd = 0 \n",
    "\n",
    "for number in nums: \n",
    "\n",
    "    if number % 2 == 0: \n",
    "        even +=1\n",
    "    else: \n",
    "        odd +=1 \n",
    "\n",
    "print(f\"There are {even} even numbers and {odd} odd numbers in this list.\")\n",
    "\n"
   ]
  },
  {
   "cell_type": "markdown",
   "metadata": {},
   "source": [
    "# Swap the first and last elements in the list\n",
    "\n",
    "## Recall that we can access individual elements of a list by indexing them with []"
   ]
  },
  {
   "cell_type": "code",
   "execution_count": 2,
   "metadata": {},
   "outputs": [
    {
     "name": "stdout",
     "output_type": "stream",
     "text": [
      "[9, 2, 3, 4, 5, 6, 7, 8, 1]\n"
     ]
    }
   ],
   "source": [
    "temp = nums[0]\n",
    "\n",
    "nums[0] = nums[-1]\n",
    "nums[-1] = temp \n",
    "\n",
    "print(nums)"
   ]
  },
  {
   "cell_type": "markdown",
   "metadata": {},
   "source": [
    "# Advanced Example"
   ]
  },
  {
   "cell_type": "code",
   "execution_count": 4,
   "metadata": {},
   "outputs": [
    {
     "name": "stdout",
     "output_type": "stream",
     "text": [
      "[1, 2, 3, 4, 5, 6, 7, 8, 9]\n",
      "[9, 2, 3, 4, 5, 6, 7, 8, 1]\n"
     ]
    }
   ],
   "source": [
    "nums_2 = [x for x in range(1, 10)]\n",
    "print(nums_2)\n",
    "\n",
    "nums_2[0], nums_2[-1] = nums_2[-1], nums_2[0]\n",
    "\n",
    "print(nums_2)"
   ]
  },
  {
   "cell_type": "markdown",
   "metadata": {},
   "source": [
    "# Make a list and sum it\n",
    "## Do this until the sum of the list is even and greater than 256"
   ]
  },
  {
   "cell_type": "code",
   "execution_count": 9,
   "metadata": {},
   "outputs": [
    {
     "name": "stdout",
     "output_type": "stream",
     "text": [
      "10 [10]\n",
      "33 [10, 23]\n",
      "1235 [10, 23, 1202]\n",
      "1358 [10, 23, 1202, 123]\n"
     ]
    }
   ],
   "source": [
    "sum_ = 1 \n",
    "input_list = []\n",
    "\n",
    "while sum_: \n",
    "\n",
    "    sum_ = 0 \n",
    "\n",
    "    input_ = input(\"Enter a number\")\n",
    "    input_list.append(int(input_))\n",
    "\n",
    "    sum_ = sum(input_list)\n",
    "\n",
    "    print(sum_, input_list)\n",
    "\n",
    "    if sum_ > 256 and sum_ % 2 == 0: \n",
    "        break # break exits the while loop \n",
    "    \n"
   ]
  },
  {
   "cell_type": "code",
   "execution_count": null,
   "metadata": {},
   "outputs": [],
   "source": [
    "lst = [x for x in range(1, 101) if x % 2 != 0] \n",
    "print(lst)\n"
   ]
  }
 ],
 "metadata": {
  "interpreter": {
   "hash": "7f2315f694e152c29e344141d749526cdfb5be5cc5e5949ea65827205c8677e7"
  },
  "kernelspec": {
   "display_name": "Python 3.8.8 64-bit ('base': conda)",
   "name": "python3"
  },
  "language_info": {
   "codemirror_mode": {
    "name": "ipython",
    "version": 3
   },
   "file_extension": ".py",
   "mimetype": "text/x-python",
   "name": "python",
   "nbconvert_exporter": "python",
   "pygments_lexer": "ipython3",
   "version": "3.8.8"
  },
  "orig_nbformat": 4
 },
 "nbformat": 4,
 "nbformat_minor": 2
}
