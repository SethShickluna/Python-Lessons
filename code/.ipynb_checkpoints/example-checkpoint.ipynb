{
 "cells": [
  {
   "cell_type": "markdown",
   "metadata": {},
   "source": [
    "# This is a Jupyter Notebook!\n",
    "## We can use 'markdown' to describe what we are doing\n",
    "- Text can be altered using all kinds of special characters\n",
    "- We can create new cells which either contain text or code \n",
    "- All code we write here is saved in real time, meaning that we can re-use it in any cell\n",
    "- All variables and imports work globally between cells\n",
    "\n",
    "# Let's give it a try here\n"
   ]
  },
  {
   "cell_type": "code",
   "execution_count": 2,
   "metadata": {},
   "outputs": [
    {
     "name": "stdout",
     "output_type": "stream",
     "text": [
      "Hello seths\n"
     ]
    }
   ],
   "source": [
    "import os #os is a module built into python - it is used to interact with the operating system (windows) running python \n",
    "print(\"Hello\", os.getlogin()) #get login is a method which os gives us - it returns the current computer user's name\n",
    "\n",
    "#finally, lets define a variable here \n",
    "color = \"blue\"\n"
   ]
  },
  {
   "cell_type": "markdown",
   "metadata": {},
   "source": [
    "# Now lets use that variable in a different cell \n",
    "### We can also see all the variables, functions, and other stuff currently being stored by the notebook"
   ]
  },
  {
   "cell_type": "code",
   "execution_count": 3,
   "metadata": {},
   "outputs": [
    {
     "name": "stdout",
     "output_type": "stream",
     "text": [
      "My favorite color is blue\n"
     ]
    }
   ],
   "source": [
    "print(f\"My favorite color is {color}\")"
   ]
  }
 ],
 "metadata": {
  "interpreter": {
   "hash": "358d97b40f00abef9e69e7adb629ba300dffa0932c9ee852da51eec5e4ee4696"
  },
  "kernelspec": {
   "display_name": "Python 3",
   "language": "python",
   "name": "python3"
  },
  "language_info": {
   "codemirror_mode": {
    "name": "ipython",
    "version": 3
   },
   "file_extension": ".py",
   "mimetype": "text/x-python",
   "name": "python",
   "nbconvert_exporter": "python",
   "pygments_lexer": "ipython3",
   "version": "3.8.8"
  }
 },
 "nbformat": 4,
 "nbformat_minor": 2
}
