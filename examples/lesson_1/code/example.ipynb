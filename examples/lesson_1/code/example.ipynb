{
 "cells": [
  {
   "cell_type": "markdown",
   "source": [
    "# This is a Jupyter Notebook!\r\n",
    "## We can use 'markdown' to describe what we are doing\r\n",
    "- Text can be altered using all kinds of special characters\r\n",
    "- We can create new cells which either contain text or code \r\n",
    "- All code we write here is saved in real time, meaning that we can re-use it in any cell\r\n",
    "- All variables and imports work globally between cells\r\n",
    "\r\n",
    "# Let's give it a try here\r\n"
   ],
   "metadata": {}
  },
  {
   "cell_type": "code",
   "execution_count": null,
   "source": [
    "import os #os is a module built into python - it is used to interact with the operating system (windows) running python \r\n",
    "print(\"Hello\", os.getlogin()) # getlogin() is a method which os gives us - it returns the current computer user's name\r\n",
    "\r\n",
    "#finally, lets define a variable here \r\n",
    "color = \"blue\"\r\n"
   ],
   "outputs": [],
   "metadata": {}
  },
  {
   "cell_type": "markdown",
   "source": [
    "# Now lets use that variable in a different cell \r\n",
    "### We can also see all the variables, functions, and other stuff currently being stored by the notebook"
   ],
   "metadata": {}
  },
  {
   "cell_type": "code",
   "execution_count": null,
   "source": [
    "print(f\"My favorite color is {color}\")"
   ],
   "outputs": [],
   "metadata": {}
  },
  {
   "cell_type": "markdown",
   "source": [
    "# Great! Now how can you use this? \r\n",
    "## We need to download a thing or two \r\n",
    "\r\n",
    "### There are a couple ways to do this: \r\n",
    "Unfortunately, the PyCharm community version doesn't support notebooks\r\n",
    "- We can use Visual Studio Code with a couple plugins (which is what I am doing now)\r\n",
    "    - Install Visual Studio Code and get the Python and Jupyter exensions\r\n",
    "    - In the Python terminal install PiP (Python Package Manager) and jupyter\r\n",
    "- We can also use a Version of Python called Anaconda which will allow us to launch notebooks \r\n",
    "    - Install Anaconda\r\n",
    "    - Type 'jupyter notebook' into the anaconda prompt\r\n",
    "    - This is probably the easiest way to run the code you'll get from these lessons\r\n",
    "\r\n",
    "## I will post instructions for both of these methods on the Google Classroom"
   ],
   "metadata": {}
  }
 ],
 "metadata": {
  "orig_nbformat": 4,
  "language_info": {
   "name": "python",
   "version": "3.9.7",
   "mimetype": "text/x-python",
   "codemirror_mode": {
    "name": "ipython",
    "version": 3
   },
   "pygments_lexer": "ipython3",
   "nbconvert_exporter": "python",
   "file_extension": ".py"
  },
  "kernelspec": {
   "name": "python3",
   "display_name": "Python 3.9.7 64-bit (windows store)"
  },
  "interpreter": {
   "hash": "358d97b40f00abef9e69e7adb629ba300dffa0932c9ee852da51eec5e4ee4696"
  }
 },
 "nbformat": 4,
 "nbformat_minor": 2
}